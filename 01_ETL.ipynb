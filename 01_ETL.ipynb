{
 "cells": [
  {
   "cell_type": "markdown",
   "metadata": {},
   "source": [
    "<h1 align='center' style=color:cyan;text-weight:800>\n",
    "1. Extracción Transformación y Carga (ETL)\n",
    "</h1>"
   ]
  },
  {
   "cell_type": "markdown",
   "metadata": {},
   "source": [
    "## _1.1 Extracción_"
   ]
  },
  {
   "cell_type": "code",
   "execution_count": 81,
   "metadata": {},
   "outputs": [],
   "source": [
    "# Carga de librerías\n",
    "import pandas as pd\n",
    "import numpy as np\n",
    "import matplotlib.pyplot as plt\n",
    "import seaborn as sns"
   ]
  },
  {
   "cell_type": "markdown",
   "metadata": {},
   "source": [
    "_Carga el de los archivos a utilizar en el análisis_"
   ]
  },
  {
   "cell_type": "code",
   "execution_count": 82,
   "metadata": {},
   "outputs": [],
   "source": [
    "df_homicidios = pd.read_excel('./datasets/homicidios.xlsx',sheet_name = 'HECHOS',na_values=['SD', 'sd'])\n",
    "df_vic_hom    = pd.read_excel('./datasets/homicidios.xlsx',sheet_name = 'VICTIMAS',na_values=['SD', 'sd'])\n",
    "df_lesiones   = pd.read_excel('./datasets/lesiones.xlsx' , sheet_name = 'HECHOS',na_values=['SD', 'sd'])\n",
    "df_vic_les    = pd.read_excel('./datasets/lesiones.xlsx' , sheet_name = 'VICTIMAS',na_values=['SD', 'sd'])"
   ]
  },
  {
   "cell_type": "markdown",
   "metadata": {},
   "source": [
    "## _1.2 Transformación_"
   ]
  },
  {
   "cell_type": "markdown",
   "metadata": {},
   "source": [
    "### _1.2.1 Homicidios_Hechos_"
   ]
  },
  {
   "cell_type": "code",
   "execution_count": 83,
   "metadata": {},
   "outputs": [
    {
     "data": {
      "text/html": [
       "<div>\n",
       "<style scoped>\n",
       "    .dataframe tbody tr th:only-of-type {\n",
       "        vertical-align: middle;\n",
       "    }\n",
       "\n",
       "    .dataframe tbody tr th {\n",
       "        vertical-align: top;\n",
       "    }\n",
       "\n",
       "    .dataframe thead th {\n",
       "        text-align: right;\n",
       "    }\n",
       "</style>\n",
       "<table border=\"1\" class=\"dataframe\">\n",
       "  <thead>\n",
       "    <tr style=\"text-align: right;\">\n",
       "      <th></th>\n",
       "      <th>ID</th>\n",
       "      <th>N_VICTIMAS</th>\n",
       "      <th>FECHA</th>\n",
       "      <th>AAAA</th>\n",
       "      <th>MM</th>\n",
       "      <th>DD</th>\n",
       "      <th>HORA</th>\n",
       "      <th>HH</th>\n",
       "      <th>LUGAR_DEL_HECHO</th>\n",
       "      <th>TIPO_DE_CALLE</th>\n",
       "      <th>...</th>\n",
       "      <th>Altura</th>\n",
       "      <th>Cruce</th>\n",
       "      <th>Dirección Normalizada</th>\n",
       "      <th>COMUNA</th>\n",
       "      <th>XY (CABA)</th>\n",
       "      <th>pos x</th>\n",
       "      <th>pos y</th>\n",
       "      <th>PARTICIPANTES</th>\n",
       "      <th>VICTIMA</th>\n",
       "      <th>ACUSADO</th>\n",
       "    </tr>\n",
       "  </thead>\n",
       "  <tbody>\n",
       "    <tr>\n",
       "      <th>375</th>\n",
       "      <td>2018-0101</td>\n",
       "      <td>1</td>\n",
       "      <td>2018-09-21</td>\n",
       "      <td>2018</td>\n",
       "      <td>9</td>\n",
       "      <td>21</td>\n",
       "      <td>00:15:00</td>\n",
       "      <td>0.0</td>\n",
       "      <td>Paz, Gral. Av. y Zapiola</td>\n",
       "      <td>GRAL PAZ</td>\n",
       "      <td>...</td>\n",
       "      <td>NaN</td>\n",
       "      <td>ZAPIOLA</td>\n",
       "      <td>PAZ, GRAL. AV. y ZAPIOLA</td>\n",
       "      <td>12</td>\n",
       "      <td>Point (98376.44189669 109821.71138325)</td>\n",
       "      <td>-58.48098594</td>\n",
       "      <td>-34.54073130</td>\n",
       "      <td>MULTIPLE</td>\n",
       "      <td>AUTO</td>\n",
       "      <td>MULTIPLE</td>\n",
       "    </tr>\n",
       "    <tr>\n",
       "      <th>426</th>\n",
       "      <td>2019-0009</td>\n",
       "      <td>1</td>\n",
       "      <td>2019-01-31</td>\n",
       "      <td>2019</td>\n",
       "      <td>1</td>\n",
       "      <td>31</td>\n",
       "      <td>14:55:00</td>\n",
       "      <td>14.0</td>\n",
       "      <td>CHACABUCO Y SAN JUAN AV.</td>\n",
       "      <td>AVENIDA</td>\n",
       "      <td>...</td>\n",
       "      <td>NaN</td>\n",
       "      <td>SAN JUAN AV.</td>\n",
       "      <td>CHACABUCO y SAN JUAN AV.</td>\n",
       "      <td>1</td>\n",
       "      <td>Point (108038.17400278 100802.81492813)</td>\n",
       "      <td>-58.37564821</td>\n",
       "      <td>-34.62200207</td>\n",
       "      <td>MOTO-AUTO</td>\n",
       "      <td>MOTO</td>\n",
       "      <td>AUTO</td>\n",
       "    </tr>\n",
       "    <tr>\n",
       "      <th>565</th>\n",
       "      <td>2020-0045</td>\n",
       "      <td>1</td>\n",
       "      <td>2020-10-19</td>\n",
       "      <td>2020</td>\n",
       "      <td>10</td>\n",
       "      <td>19</td>\n",
       "      <td>03:00:00</td>\n",
       "      <td>3.0</td>\n",
       "      <td>PAZ, GRAL. AV. Y 27 DE FEBRERO AV.</td>\n",
       "      <td>GRAL PAZ</td>\n",
       "      <td>...</td>\n",
       "      <td>NaN</td>\n",
       "      <td>27 DE FEBRERO AV.</td>\n",
       "      <td>PAZ, GRAL. AV. y 27 DE FEBRERO AV.</td>\n",
       "      <td>8</td>\n",
       "      <td>Point (100077.95205948 91571.23307293)</td>\n",
       "      <td>-58.46244952</td>\n",
       "      <td>-34.70524971</td>\n",
       "      <td>AUTO-CARGAS</td>\n",
       "      <td>AUTO</td>\n",
       "      <td>CARGAS</td>\n",
       "    </tr>\n",
       "  </tbody>\n",
       "</table>\n",
       "<p>3 rows × 21 columns</p>\n",
       "</div>"
      ],
      "text/plain": [
       "            ID  N_VICTIMAS      FECHA  AAAA  MM  DD      HORA    HH  \\\n",
       "375  2018-0101           1 2018-09-21  2018   9  21  00:15:00   0.0   \n",
       "426  2019-0009           1 2019-01-31  2019   1  31  14:55:00  14.0   \n",
       "565  2020-0045           1 2020-10-19  2020  10  19  03:00:00   3.0   \n",
       "\n",
       "                        LUGAR_DEL_HECHO TIPO_DE_CALLE  ... Altura  \\\n",
       "375            Paz, Gral. Av. y Zapiola      GRAL PAZ  ...    NaN   \n",
       "426            CHACABUCO Y SAN JUAN AV.       AVENIDA  ...    NaN   \n",
       "565  PAZ, GRAL. AV. Y 27 DE FEBRERO AV.      GRAL PAZ  ...    NaN   \n",
       "\n",
       "                 Cruce               Dirección Normalizada COMUNA  \\\n",
       "375            ZAPIOLA            PAZ, GRAL. AV. y ZAPIOLA     12   \n",
       "426       SAN JUAN AV.            CHACABUCO y SAN JUAN AV.      1   \n",
       "565  27 DE FEBRERO AV.  PAZ, GRAL. AV. y 27 DE FEBRERO AV.      8   \n",
       "\n",
       "                                   XY (CABA)         pos x         pos y  \\\n",
       "375   Point (98376.44189669 109821.71138325)  -58.48098594  -34.54073130   \n",
       "426  Point (108038.17400278 100802.81492813)  -58.37564821  -34.62200207   \n",
       "565   Point (100077.95205948 91571.23307293)  -58.46244952  -34.70524971   \n",
       "\n",
       "    PARTICIPANTES VICTIMA   ACUSADO  \n",
       "375      MULTIPLE    AUTO  MULTIPLE  \n",
       "426     MOTO-AUTO    MOTO      AUTO  \n",
       "565   AUTO-CARGAS    AUTO    CARGAS  \n",
       "\n",
       "[3 rows x 21 columns]"
      ]
     },
     "metadata": {},
     "output_type": "display_data"
    }
   ],
   "source": [
    "display(df_homicidios.sample(3))"
   ]
  },
  {
   "cell_type": "markdown",
   "metadata": {},
   "source": [
    "_Removemos las columnas que no vamos a utilizar_"
   ]
  },
  {
   "cell_type": "code",
   "execution_count": 84,
   "metadata": {},
   "outputs": [],
   "source": [
    "df_homicidios.drop(columns=['AAAA', 'MM', 'DD', 'HORA', 'LUGAR_DEL_HECHO', 'Calle', \n",
    "                            'Altura', 'Cruce', 'Dirección Normalizada', 'PARTICIPANTES','VICTIMA'], inplace=True)"
   ]
  },
  {
   "cell_type": "code",
   "execution_count": 85,
   "metadata": {},
   "outputs": [
    {
     "name": "stdout",
     "output_type": "stream",
     "text": [
      "<class 'pandas.core.frame.DataFrame'>\n",
      "RangeIndex: 696 entries, 0 to 695\n",
      "Data columns (total 10 columns):\n",
      " #   Column         Non-Null Count  Dtype         \n",
      "---  ------         --------------  -----         \n",
      " 0   ID             696 non-null    object        \n",
      " 1   N_VICTIMAS     696 non-null    int64         \n",
      " 2   FECHA          696 non-null    datetime64[ns]\n",
      " 3   HH             695 non-null    float64       \n",
      " 4   TIPO_DE_CALLE  696 non-null    object        \n",
      " 5   COMUNA         696 non-null    int64         \n",
      " 6   XY (CABA)      696 non-null    object        \n",
      " 7   pos x          696 non-null    object        \n",
      " 8   pos y          696 non-null    object        \n",
      " 9   ACUSADO        673 non-null    object        \n",
      "dtypes: datetime64[ns](1), float64(1), int64(2), object(6)\n",
      "memory usage: 54.5+ KB\n",
      "None\n"
     ]
    }
   ],
   "source": [
    "# INFOREME DE HOMICIDIOS\n",
    "print(df_homicidios.info())"
   ]
  },
  {
   "cell_type": "code",
   "execution_count": 86,
   "metadata": {},
   "outputs": [
    {
     "data": {
      "text/plain": [
       "ID                0\n",
       "N_VICTIMAS        0\n",
       "FECHA             0\n",
       "HH                1\n",
       "TIPO_DE_CALLE     0\n",
       "COMUNA            0\n",
       "XY (CABA)         0\n",
       "pos x             0\n",
       "pos y             0\n",
       "ACUSADO          23\n",
       "dtype: int64"
      ]
     },
     "execution_count": 86,
     "metadata": {},
     "output_type": "execute_result"
    }
   ],
   "source": [
    "# Cantidad de valores nulos\n",
    "df_homicidios.isnull().sum()"
   ]
  },
  {
   "cell_type": "markdown",
   "metadata": {},
   "source": [
    "_Transformaciones de datos_"
   ]
  },
  {
   "cell_type": "code",
   "execution_count": 87,
   "metadata": {},
   "outputs": [],
   "source": [
    "# remplazar la comuna 0 a nulos\n",
    "df_homicidios.loc[df_homicidios['COMUNA'] == '0' ,'COMUNA'] = np.nan\n",
    "\n",
    "\n",
    "# remplazar los \".\" por nulos en latitud y longitud\n",
    "df_homicidios.loc[df_homicidios['pos x'] == '.' ,'pos x'] = np.nan\n",
    "df_homicidios.loc[df_homicidios['pos y'] == '.' ,'pos y'] = np.nan\n",
    "df_homicidios.loc[df_homicidios['XY (CABA)'] == 'Point (. .)' ,'XY (CABA)'] = np.nan\n"
   ]
  },
  {
   "cell_type": "code",
   "execution_count": 88,
   "metadata": {},
   "outputs": [
    {
     "data": {
      "text/plain": [
       "ID                0\n",
       "N_VICTIMAS        0\n",
       "FECHA             0\n",
       "HH                1\n",
       "TIPO_DE_CALLE     0\n",
       "COMUNA            0\n",
       "XY (CABA)        14\n",
       "pos x            12\n",
       "pos y            12\n",
       "ACUSADO          23\n",
       "dtype: int64"
      ]
     },
     "execution_count": 88,
     "metadata": {},
     "output_type": "execute_result"
    }
   ],
   "source": [
    "df_homicidios.isnull().sum()"
   ]
  },
  {
   "cell_type": "code",
   "execution_count": 89,
   "metadata": {},
   "outputs": [
    {
     "name": "stdout",
     "output_type": "stream",
     "text": [
      "<class 'pandas.core.frame.DataFrame'>\n",
      "RangeIndex: 696 entries, 0 to 695\n",
      "Data columns (total 10 columns):\n",
      " #   Column         Non-Null Count  Dtype         \n",
      "---  ------         --------------  -----         \n",
      " 0   ID             696 non-null    object        \n",
      " 1   N_VICTIMAS     696 non-null    int64         \n",
      " 2   FECHA          696 non-null    datetime64[ns]\n",
      " 3   HH             695 non-null    category      \n",
      " 4   TIPO_DE_CALLE  696 non-null    category      \n",
      " 5   COMUNA         696 non-null    category      \n",
      " 6   XY (CABA)      682 non-null    object        \n",
      " 7   pos x          684 non-null    float64       \n",
      " 8   pos y          684 non-null    float64       \n",
      " 9   ACUSADO        673 non-null    category      \n",
      "dtypes: category(4), datetime64[ns](1), float64(2), int64(1), object(2)\n",
      "memory usage: 37.4+ KB\n"
     ]
    }
   ],
   "source": [
    "# cambio a formato categórico\n",
    "df_homicidios['HH'] = df_homicidios['HH'].astype('category')\n",
    "df_homicidios['TIPO_DE_CALLE'] = df_homicidios['TIPO_DE_CALLE'].astype('category')\n",
    "df_homicidios['COMUNA'] = df_homicidios['COMUNA'].astype('category')\n",
    "df_homicidios['ACUSADO'] = df_homicidios['ACUSADO'].astype('category')\n",
    "\n",
    "# cambio a float los valores de latitud y longitud\n",
    "df_homicidios['pos x'] = df_homicidios['pos x'].astype('float')\n",
    "df_homicidios['pos y'] = df_homicidios['pos y'].astype('float')\n",
    "\n",
    "df_homicidios.info()\n"
   ]
  },
  {
   "cell_type": "markdown",
   "metadata": {},
   "source": [
    "Rename de columnas"
   ]
  },
  {
   "cell_type": "code",
   "execution_count": 90,
   "metadata": {},
   "outputs": [],
   "source": [
    "nuevos_nombres = {'ID': 'ID_HECHO','pos x':'LONGITUD','pos y':'LATITUD',\n",
    "                  'HH':'HORA','ACUSADO':'VEHICULO_ACUSADO',\n",
    "                  'Rango_etario ':'RANGO_ETARIO'}\n",
    "                 \n",
    "# Remplazar nombres\n",
    "df_homicidios = df_homicidios.rename(columns=nuevos_nombres)"
   ]
  },
  {
   "cell_type": "code",
   "execution_count": 91,
   "metadata": {},
   "outputs": [],
   "source": [
    "# # borrando los registros nulos que son 15 que representa el 2.1% de los datos\n",
    "# df_homicidios.isnull().sum()\n",
    "# df_homicidios.dropna(inplace=True)"
   ]
  },
  {
   "cell_type": "markdown",
   "metadata": {},
   "source": [
    "_Guardamos el DF listo para su análisis_"
   ]
  },
  {
   "cell_type": "code",
   "execution_count": 92,
   "metadata": {},
   "outputs": [
    {
     "data": {
      "text/html": [
       "<div>\n",
       "<style scoped>\n",
       "    .dataframe tbody tr th:only-of-type {\n",
       "        vertical-align: middle;\n",
       "    }\n",
       "\n",
       "    .dataframe tbody tr th {\n",
       "        vertical-align: top;\n",
       "    }\n",
       "\n",
       "    .dataframe thead th {\n",
       "        text-align: right;\n",
       "    }\n",
       "</style>\n",
       "<table border=\"1\" class=\"dataframe\">\n",
       "  <thead>\n",
       "    <tr style=\"text-align: right;\">\n",
       "      <th></th>\n",
       "      <th>ID_HECHO</th>\n",
       "      <th>N_VICTIMAS</th>\n",
       "      <th>FECHA</th>\n",
       "      <th>HORA</th>\n",
       "      <th>TIPO_DE_CALLE</th>\n",
       "      <th>COMUNA</th>\n",
       "      <th>XY (CABA)</th>\n",
       "      <th>LONGITUD</th>\n",
       "      <th>LATITUD</th>\n",
       "      <th>VEHICULO_ACUSADO</th>\n",
       "    </tr>\n",
       "  </thead>\n",
       "  <tbody>\n",
       "    <tr>\n",
       "      <th>48</th>\n",
       "      <td>2016-0068</td>\n",
       "      <td>1</td>\n",
       "      <td>2016-05-22</td>\n",
       "      <td>22.0</td>\n",
       "      <td>AVENIDA</td>\n",
       "      <td>2.0</td>\n",
       "      <td>Point (106673.12856878 104998.99234220)</td>\n",
       "      <td>-58.390566</td>\n",
       "      <td>-34.584186</td>\n",
       "      <td>PASAJEROS</td>\n",
       "    </tr>\n",
       "    <tr>\n",
       "      <th>54</th>\n",
       "      <td>2016-0077</td>\n",
       "      <td>1</td>\n",
       "      <td>2016-06-13</td>\n",
       "      <td>21.0</td>\n",
       "      <td>AVENIDA</td>\n",
       "      <td>1.0</td>\n",
       "      <td>Point (108532.37320501 102648.40418720)</td>\n",
       "      <td>-58.370278</td>\n",
       "      <td>-34.605361</td>\n",
       "      <td>PASAJEROS</td>\n",
       "    </tr>\n",
       "    <tr>\n",
       "      <th>566</th>\n",
       "      <td>2020-0046</td>\n",
       "      <td>1</td>\n",
       "      <td>2020-10-27</td>\n",
       "      <td>21.0</td>\n",
       "      <td>AVENIDA</td>\n",
       "      <td>11.0</td>\n",
       "      <td>Point (98064.49909649 102385.10228515)</td>\n",
       "      <td>-58.484402</td>\n",
       "      <td>-34.607768</td>\n",
       "      <td>MOTO</td>\n",
       "    </tr>\n",
       "  </tbody>\n",
       "</table>\n",
       "</div>"
      ],
      "text/plain": [
       "      ID_HECHO  N_VICTIMAS      FECHA  HORA TIPO_DE_CALLE COMUNA  \\\n",
       "48   2016-0068           1 2016-05-22  22.0       AVENIDA    2.0   \n",
       "54   2016-0077           1 2016-06-13  21.0       AVENIDA    1.0   \n",
       "566  2020-0046           1 2020-10-27  21.0       AVENIDA   11.0   \n",
       "\n",
       "                                   XY (CABA)   LONGITUD    LATITUD  \\\n",
       "48   Point (106673.12856878 104998.99234220) -58.390566 -34.584186   \n",
       "54   Point (108532.37320501 102648.40418720) -58.370278 -34.605361   \n",
       "566   Point (98064.49909649 102385.10228515) -58.484402 -34.607768   \n",
       "\n",
       "    VEHICULO_ACUSADO  \n",
       "48         PASAJEROS  \n",
       "54         PASAJEROS  \n",
       "566             MOTO  "
      ]
     },
     "execution_count": 92,
     "metadata": {},
     "output_type": "execute_result"
    }
   ],
   "source": [
    "df_homicidios.sample(3)"
   ]
  },
  {
   "cell_type": "code",
   "execution_count": 93,
   "metadata": {},
   "outputs": [],
   "source": [
    "# Guardamos el DF listo para su análisis\n",
    "df_homicidios.to_csv('./datasets/df_homicidios.csv',index=False)"
   ]
  },
  {
   "cell_type": "markdown",
   "metadata": {},
   "source": [
    "### _1.2.2 Homicidios_Victimas_"
   ]
  },
  {
   "cell_type": "code",
   "execution_count": 94,
   "metadata": {},
   "outputs": [
    {
     "data": {
      "text/html": [
       "<div>\n",
       "<style scoped>\n",
       "    .dataframe tbody tr th:only-of-type {\n",
       "        vertical-align: middle;\n",
       "    }\n",
       "\n",
       "    .dataframe tbody tr th {\n",
       "        vertical-align: top;\n",
       "    }\n",
       "\n",
       "    .dataframe thead th {\n",
       "        text-align: right;\n",
       "    }\n",
       "</style>\n",
       "<table border=\"1\" class=\"dataframe\">\n",
       "  <thead>\n",
       "    <tr style=\"text-align: right;\">\n",
       "      <th></th>\n",
       "      <th>ID_hecho</th>\n",
       "      <th>FECHA</th>\n",
       "      <th>AAAA</th>\n",
       "      <th>MM</th>\n",
       "      <th>DD</th>\n",
       "      <th>ROL</th>\n",
       "      <th>VICTIMA</th>\n",
       "      <th>SEXO</th>\n",
       "      <th>EDAD</th>\n",
       "      <th>FECHA_FALLECIMIENTO</th>\n",
       "    </tr>\n",
       "  </thead>\n",
       "  <tbody>\n",
       "    <tr>\n",
       "      <th>54</th>\n",
       "      <td>2016-0076</td>\n",
       "      <td>2016-06-13</td>\n",
       "      <td>2016</td>\n",
       "      <td>6</td>\n",
       "      <td>13</td>\n",
       "      <td>PEATON</td>\n",
       "      <td>PEATON</td>\n",
       "      <td>FEMENINO</td>\n",
       "      <td>53.0</td>\n",
       "      <td>2016-06-13 00:00:00</td>\n",
       "    </tr>\n",
       "    <tr>\n",
       "      <th>179</th>\n",
       "      <td>2017-0038</td>\n",
       "      <td>2017-04-01</td>\n",
       "      <td>2017</td>\n",
       "      <td>4</td>\n",
       "      <td>1</td>\n",
       "      <td>CONDUCTOR</td>\n",
       "      <td>MOTO</td>\n",
       "      <td>FEMENINO</td>\n",
       "      <td>40.0</td>\n",
       "      <td>2017-04-01 00:00:00</td>\n",
       "    </tr>\n",
       "    <tr>\n",
       "      <th>434</th>\n",
       "      <td>2018-0143</td>\n",
       "      <td>2018-12-29</td>\n",
       "      <td>2018</td>\n",
       "      <td>12</td>\n",
       "      <td>29</td>\n",
       "      <td>CONDUCTOR</td>\n",
       "      <td>MOTO</td>\n",
       "      <td>MASCULINO</td>\n",
       "      <td>22.0</td>\n",
       "      <td>2018-12-29 00:00:00</td>\n",
       "    </tr>\n",
       "  </tbody>\n",
       "</table>\n",
       "</div>"
      ],
      "text/plain": [
       "      ID_hecho      FECHA  AAAA  MM  DD        ROL VICTIMA       SEXO  EDAD  \\\n",
       "54   2016-0076 2016-06-13  2016   6  13     PEATON  PEATON   FEMENINO  53.0   \n",
       "179  2017-0038 2017-04-01  2017   4   1  CONDUCTOR    MOTO   FEMENINO  40.0   \n",
       "434  2018-0143 2018-12-29  2018  12  29  CONDUCTOR    MOTO  MASCULINO  22.0   \n",
       "\n",
       "     FECHA_FALLECIMIENTO  \n",
       "54   2016-06-13 00:00:00  \n",
       "179  2017-04-01 00:00:00  \n",
       "434  2018-12-29 00:00:00  "
      ]
     },
     "metadata": {},
     "output_type": "display_data"
    }
   ],
   "source": [
    "display(df_vic_hom.sample(3))"
   ]
  },
  {
   "cell_type": "code",
   "execution_count": 95,
   "metadata": {},
   "outputs": [
    {
     "name": "stdout",
     "output_type": "stream",
     "text": [
      "<class 'pandas.core.frame.DataFrame'>\n",
      "RangeIndex: 717 entries, 0 to 716\n",
      "Data columns (total 10 columns):\n",
      " #   Column               Non-Null Count  Dtype         \n",
      "---  ------               --------------  -----         \n",
      " 0   ID_hecho             717 non-null    object        \n",
      " 1   FECHA                717 non-null    datetime64[ns]\n",
      " 2   AAAA                 717 non-null    int64         \n",
      " 3   MM                   717 non-null    int64         \n",
      " 4   DD                   717 non-null    int64         \n",
      " 5   ROL                  706 non-null    object        \n",
      " 6   VICTIMA              708 non-null    object        \n",
      " 7   SEXO                 711 non-null    object        \n",
      " 8   EDAD                 664 non-null    float64       \n",
      " 9   FECHA_FALLECIMIENTO  649 non-null    object        \n",
      "dtypes: datetime64[ns](1), float64(1), int64(3), object(5)\n",
      "memory usage: 56.1+ KB\n",
      "None\n"
     ]
    }
   ],
   "source": [
    "print(df_vic_hom.info())"
   ]
  },
  {
   "cell_type": "markdown",
   "metadata": {},
   "source": [
    "_Removemos las columnas que no vamos a utilizar_"
   ]
  },
  {
   "cell_type": "code",
   "execution_count": 96,
   "metadata": {},
   "outputs": [],
   "source": [
    "df_vic_hom.drop(columns=['AAAA', 'MM', 'DD', 'FECHA_FALLECIMIENTO'], inplace=True)\n",
    "\n",
    "df_vic_hom['GRAVEDAD'] = 'FATAL'"
   ]
  },
  {
   "cell_type": "markdown",
   "metadata": {},
   "source": [
    "_Transformaciones de datos_"
   ]
  },
  {
   "cell_type": "code",
   "execution_count": 97,
   "metadata": {},
   "outputs": [],
   "source": [
    "# función que regresa 1 si la edad es menor a 18, 2 si la edad esta entre 18 y 29\n",
    "# 3 si la edad esta entre 30 y 39, 4 si la edad esta entre 40 a 49 , 5 si la edad es de 50 a 59\n",
    "# y 6 si la edad es igual o mayor a 60 \n",
    "def rango_etario(edad):\n",
    "    if edad < 18:\n",
    "        return \"1_ 0 a 17 años\"\n",
    "    elif 18 <= edad <= 29:\n",
    "        return \"2_ 18 a 29 años\"\n",
    "    elif 30 <= edad <= 39:\n",
    "        return \"3_ 30 a 39 años\"\n",
    "    elif 40 <= edad <= 49:\n",
    "        return \"4_ 45 a 49 años\"\n",
    "    elif 50 <= edad <= 59:\n",
    "        return \"5_ 50 a 59 años\"\n",
    "    elif edad >= 60:\n",
    "        return \"6_ 60 años o mas\"\n",
    "    else:\n",
    "        return np.nan\n"
   ]
  },
  {
   "cell_type": "code",
   "execution_count": null,
   "metadata": {},
   "outputs": [],
   "source": []
  },
  {
   "cell_type": "code",
   "execution_count": 98,
   "metadata": {},
   "outputs": [
    {
     "name": "stdout",
     "output_type": "stream",
     "text": [
      "<class 'pandas.core.frame.DataFrame'>\n",
      "RangeIndex: 717 entries, 0 to 716\n",
      "Data columns (total 8 columns):\n",
      " #   Column        Non-Null Count  Dtype         \n",
      "---  ------        --------------  -----         \n",
      " 0   ID_hecho      717 non-null    object        \n",
      " 1   FECHA         717 non-null    datetime64[ns]\n",
      " 2   ROL           706 non-null    object        \n",
      " 3   VICTIMA       708 non-null    object        \n",
      " 4   SEXO          711 non-null    object        \n",
      " 5   EDAD          664 non-null    float64       \n",
      " 6   GRAVEDAD      717 non-null    object        \n",
      " 7   RANGO_ETARIO  664 non-null    object        \n",
      "dtypes: datetime64[ns](1), float64(1), object(6)\n",
      "memory usage: 44.9+ KB\n"
     ]
    }
   ],
   "source": [
    "# Rango Etario\n",
    "df_vic_hom.loc[df_vic_hom['EDAD'] == 'SD', 'EDAD'] = np.nan\n",
    "df_vic_hom.loc[df_vic_hom['EDAD'] == 'sd', 'EDAD'] = np.nan\n",
    "df_vic_hom['EDAD'] = df_vic_hom['EDAD'].astype('float')\n",
    "df_vic_hom['RANGO_ETARIO'] = df_vic_hom['EDAD'].apply(lambda x: rango_etario(x))\n",
    "df_vic_hom.info()"
   ]
  },
  {
   "cell_type": "code",
   "execution_count": 99,
   "metadata": {},
   "outputs": [
    {
     "name": "stdout",
     "output_type": "stream",
     "text": [
      "<class 'pandas.core.frame.DataFrame'>\n",
      "RangeIndex: 717 entries, 0 to 716\n",
      "Data columns (total 7 columns):\n",
      " #   Column        Non-Null Count  Dtype         \n",
      "---  ------        --------------  -----         \n",
      " 0   ID_hecho      717 non-null    category      \n",
      " 1   FECHA         717 non-null    datetime64[ns]\n",
      " 2   ROL           706 non-null    category      \n",
      " 3   VICTIMA       708 non-null    category      \n",
      " 4   SEXO          711 non-null    category      \n",
      " 5   GRAVEDAD      717 non-null    object        \n",
      " 6   RANGO_ETARIO  664 non-null    category      \n",
      "dtypes: category(5), datetime64[ns](1), object(1)\n",
      "memory usage: 38.0+ KB\n"
     ]
    }
   ],
   "source": [
    "# cambio a formato categórico\n",
    "df_vic_hom['ID_hecho'] = df_vic_hom['ID_hecho'].astype('category')\n",
    "df_vic_hom['ROL'] = df_vic_hom['ROL'].astype('category')\n",
    "df_vic_hom['VICTIMA'] = df_vic_hom['VICTIMA'].astype('category')\n",
    "df_vic_hom['SEXO'] = df_vic_hom['SEXO'].astype('category')\n",
    "df_vic_hom['RANGO_ETARIO'] = df_vic_hom['RANGO_ETARIO'].astype('category')\n",
    "\n",
    "\n",
    "df_vic_hom.drop(columns='EDAD',inplace=True)\n",
    "\n",
    "df_vic_hom.info()"
   ]
  },
  {
   "cell_type": "code",
   "execution_count": 100,
   "metadata": {},
   "outputs": [
    {
     "data": {
      "text/plain": [
       "Index(['ID_HECHO', 'FECHA', 'ROL_VICTIMA', 'VEHICULO_VICTIMA', 'SEXO_VICTIMA',\n",
       "       'GRAVEDAD', 'RANGO_ETARIO'],\n",
       "      dtype='object')"
      ]
     },
     "execution_count": 100,
     "metadata": {},
     "output_type": "execute_result"
    }
   ],
   "source": [
    "# CAMBIAR EL NOMBRE A LAS COLUMNAS QUE NO ESTAN EN MAYUSCULAS   \n",
    "nuevos_nombres = {'ID_hecho':'ID_HECHO','ROL':'ROL_VICTIMA','VICTIMA':'VEHICULO_VICTIMA','SEXO':'SEXO_VICTIMA'}\n",
    "\n",
    "# Remplazar nombres\n",
    "df_vic_hom = df_vic_hom.rename(columns=nuevos_nombres)\n",
    "df_vic_hom.columns"
   ]
  },
  {
   "cell_type": "code",
   "execution_count": 101,
   "metadata": {},
   "outputs": [],
   "source": [
    "#cambia el ROL_VICTIMA  =  PASAJERO_ACOMPAÑANTE por PASAJERO\n",
    "df_vic_hom['ROL_VICTIMA'] = df_vic_hom['ROL_VICTIMA'].replace('PASAJERO_ACOMPAÑANTE','PASAJERO')"
   ]
  },
  {
   "cell_type": "code",
   "execution_count": 102,
   "metadata": {},
   "outputs": [],
   "source": [
    "# Guardamos el DF listo para su análisis\n",
    "df_vic_hom.to_csv('./datasets/df_vic_hom.csv',index=False)"
   ]
  },
  {
   "cell_type": "markdown",
   "metadata": {},
   "source": [
    "### _1.2.3 Lesiones_Hechos_"
   ]
  },
  {
   "cell_type": "code",
   "execution_count": 103,
   "metadata": {},
   "outputs": [
    {
     "data": {
      "text/html": [
       "<div>\n",
       "<style scoped>\n",
       "    .dataframe tbody tr th:only-of-type {\n",
       "        vertical-align: middle;\n",
       "    }\n",
       "\n",
       "    .dataframe tbody tr th {\n",
       "        vertical-align: top;\n",
       "    }\n",
       "\n",
       "    .dataframe thead th {\n",
       "        text-align: right;\n",
       "    }\n",
       "</style>\n",
       "<table border=\"1\" class=\"dataframe\">\n",
       "  <thead>\n",
       "    <tr style=\"text-align: right;\">\n",
       "      <th></th>\n",
       "      <th>id</th>\n",
       "      <th>n_victimas</th>\n",
       "      <th>aaaa</th>\n",
       "      <th>mm</th>\n",
       "      <th>dd</th>\n",
       "      <th>fecha</th>\n",
       "      <th>hora</th>\n",
       "      <th>franja_hora</th>\n",
       "      <th>direccion_normalizada</th>\n",
       "      <th>comuna</th>\n",
       "      <th>...</th>\n",
       "      <th>latutid</th>\n",
       "      <th>victima</th>\n",
       "      <th>acusado</th>\n",
       "      <th>participantes</th>\n",
       "      <th>moto</th>\n",
       "      <th>auto</th>\n",
       "      <th>transporte_publico</th>\n",
       "      <th>camion</th>\n",
       "      <th>ciclista</th>\n",
       "      <th>gravedad</th>\n",
       "    </tr>\n",
       "  </thead>\n",
       "  <tbody>\n",
       "    <tr>\n",
       "      <th>5908</th>\n",
       "      <td>LC-2019-0441580</td>\n",
       "      <td>1</td>\n",
       "      <td>2019</td>\n",
       "      <td>7</td>\n",
       "      <td>16</td>\n",
       "      <td>2019-07-16 00:00:00</td>\n",
       "      <td>18:30:00</td>\n",
       "      <td>18.0</td>\n",
       "      <td>NaN</td>\n",
       "      <td>9</td>\n",
       "      <td>...</td>\n",
       "      <td>-34.639147</td>\n",
       "      <td>NaN</td>\n",
       "      <td>NaN</td>\n",
       "      <td>SD-SD</td>\n",
       "      <td>NaN</td>\n",
       "      <td>NaN</td>\n",
       "      <td>NaN</td>\n",
       "      <td>NaN</td>\n",
       "      <td>NaN</td>\n",
       "      <td>NaN</td>\n",
       "    </tr>\n",
       "    <tr>\n",
       "      <th>8673</th>\n",
       "      <td>LC-2019-0658177</td>\n",
       "      <td>1</td>\n",
       "      <td>2019</td>\n",
       "      <td>10</td>\n",
       "      <td>21</td>\n",
       "      <td>2019-10-21 00:00:00</td>\n",
       "      <td>06:45:00</td>\n",
       "      <td>6.0</td>\n",
       "      <td>NaN</td>\n",
       "      <td>1</td>\n",
       "      <td>...</td>\n",
       "      <td>-34.619758</td>\n",
       "      <td>NaN</td>\n",
       "      <td>NaN</td>\n",
       "      <td>SD-SD</td>\n",
       "      <td>NaN</td>\n",
       "      <td>NaN</td>\n",
       "      <td>NaN</td>\n",
       "      <td>NaN</td>\n",
       "      <td>NaN</td>\n",
       "      <td>NaN</td>\n",
       "    </tr>\n",
       "    <tr>\n",
       "      <th>9017</th>\n",
       "      <td>LC-2019-0769259</td>\n",
       "      <td>2</td>\n",
       "      <td>2019</td>\n",
       "      <td>11</td>\n",
       "      <td>2</td>\n",
       "      <td>2019-11-02 00:00:00</td>\n",
       "      <td>22:30:00</td>\n",
       "      <td>22.0</td>\n",
       "      <td>NaN</td>\n",
       "      <td>12</td>\n",
       "      <td>...</td>\n",
       "      <td>-34.573093</td>\n",
       "      <td>MOTO</td>\n",
       "      <td>NaN</td>\n",
       "      <td>MOTO-SD</td>\n",
       "      <td>x</td>\n",
       "      <td>NaN</td>\n",
       "      <td>NaN</td>\n",
       "      <td>NaN</td>\n",
       "      <td>NaN</td>\n",
       "      <td>NaN</td>\n",
       "    </tr>\n",
       "  </tbody>\n",
       "</table>\n",
       "<p>3 rows × 27 columns</p>\n",
       "</div>"
      ],
      "text/plain": [
       "                   id  n_victimas  aaaa  mm  dd                fecha  \\\n",
       "5908  LC-2019-0441580           1  2019   7  16  2019-07-16 00:00:00   \n",
       "8673  LC-2019-0658177           1  2019  10  21  2019-10-21 00:00:00   \n",
       "9017  LC-2019-0769259           2  2019  11   2  2019-11-02 00:00:00   \n",
       "\n",
       "          hora  franja_hora direccion_normalizada comuna  ...    latutid  \\\n",
       "5908  18:30:00         18.0                   NaN      9  ... -34.639147   \n",
       "8673  06:45:00          6.0                   NaN      1  ... -34.619758   \n",
       "9017  22:30:00         22.0                   NaN     12  ... -34.573093   \n",
       "\n",
       "     victima acusado  participantes moto auto  transporte_publico  camion  \\\n",
       "5908     NaN     NaN          SD-SD  NaN  NaN                 NaN     NaN   \n",
       "8673     NaN     NaN          SD-SD  NaN  NaN                 NaN     NaN   \n",
       "9017    MOTO     NaN        MOTO-SD    x  NaN                 NaN     NaN   \n",
       "\n",
       "     ciclista gravedad  \n",
       "5908      NaN      NaN  \n",
       "8673      NaN      NaN  \n",
       "9017      NaN      NaN  \n",
       "\n",
       "[3 rows x 27 columns]"
      ]
     },
     "metadata": {},
     "output_type": "display_data"
    }
   ],
   "source": [
    "display(df_lesiones.sample(3))"
   ]
  },
  {
   "cell_type": "code",
   "execution_count": 104,
   "metadata": {},
   "outputs": [
    {
     "name": "stdout",
     "output_type": "stream",
     "text": [
      "<class 'pandas.core.frame.DataFrame'>\n",
      "RangeIndex: 23785 entries, 0 to 23784\n",
      "Data columns (total 27 columns):\n",
      " #   Column                 Non-Null Count  Dtype  \n",
      "---  ------                 --------------  -----  \n",
      " 0   id                     23785 non-null  object \n",
      " 1   n_victimas             23785 non-null  int64  \n",
      " 2   aaaa                   23785 non-null  int64  \n",
      " 3   mm                     23785 non-null  int64  \n",
      " 4   dd                     23785 non-null  int64  \n",
      " 5   fecha                  23785 non-null  object \n",
      " 6   hora                   23776 non-null  object \n",
      " 7   franja_hora            23776 non-null  float64\n",
      " 8   direccion_normalizada  12917 non-null  object \n",
      " 9   comuna                 22770 non-null  object \n",
      " 10  tipo_calle             12740 non-null  object \n",
      " 11  otra_direccion         5490 non-null   object \n",
      " 12  calle                  12867 non-null  object \n",
      " 13  altura                 12771 non-null  float64\n",
      " 14  cruce                  9407 non-null   object \n",
      " 15  geocodificacion_CABA   22533 non-null  object \n",
      " 16  longitud               22314 non-null  float64\n",
      " 17  latutid                22314 non-null  float64\n",
      " 18  victima                13052 non-null  object \n",
      " 19  acusado                8497 non-null   object \n",
      " 20  participantes          23785 non-null  object \n",
      " 21  moto                   15181 non-null  object \n",
      " 22  auto                   11149 non-null  object \n",
      " 23  transporte_publico     11891 non-null  object \n",
      " 24  camion                 10984 non-null  object \n",
      " 25  ciclista               12339 non-null  object \n",
      " 26  gravedad               646 non-null    object \n",
      "dtypes: float64(4), int64(4), object(19)\n",
      "memory usage: 4.9+ MB\n",
      "None\n"
     ]
    }
   ],
   "source": [
    "print(df_lesiones.info())"
   ]
  },
  {
   "cell_type": "markdown",
   "metadata": {},
   "source": [
    "_Removemos las columnas que no vamos a utilizar_"
   ]
  },
  {
   "cell_type": "code",
   "execution_count": 105,
   "metadata": {},
   "outputs": [],
   "source": [
    "df_lesiones.drop(columns=['aaaa', 'mm', 'dd','hora','direccion_normalizada',\n",
    "                          'calle','altura','cruce','participantes','moto',\n",
    "                          'auto','transporte_publico','camion','otra_direccion',\n",
    "                          'ciclista','victima','gravedad'], inplace=True)\n"
   ]
  },
  {
   "cell_type": "code",
   "execution_count": 106,
   "metadata": {},
   "outputs": [
    {
     "data": {
      "text/html": [
       "<div>\n",
       "<style scoped>\n",
       "    .dataframe tbody tr th:only-of-type {\n",
       "        vertical-align: middle;\n",
       "    }\n",
       "\n",
       "    .dataframe tbody tr th {\n",
       "        vertical-align: top;\n",
       "    }\n",
       "\n",
       "    .dataframe thead th {\n",
       "        text-align: right;\n",
       "    }\n",
       "</style>\n",
       "<table border=\"1\" class=\"dataframe\">\n",
       "  <thead>\n",
       "    <tr style=\"text-align: right;\">\n",
       "      <th></th>\n",
       "      <th>ID_HECHO</th>\n",
       "      <th>N_VICTIMAS</th>\n",
       "      <th>FECHA</th>\n",
       "      <th>HORA</th>\n",
       "      <th>COMUNA</th>\n",
       "      <th>TIPO_DE_CALLE</th>\n",
       "      <th>XY (CABA)</th>\n",
       "      <th>LONGITUD</th>\n",
       "      <th>LATUTID</th>\n",
       "      <th>VEHICULO_ACUSADO</th>\n",
       "    </tr>\n",
       "  </thead>\n",
       "  <tbody>\n",
       "    <tr>\n",
       "      <th>12745</th>\n",
       "      <td>LC-2020-0233488</td>\n",
       "      <td>1</td>\n",
       "      <td>2020-05-09 00:00:00</td>\n",
       "      <td>13.0</td>\n",
       "      <td>9</td>\n",
       "      <td>CALLE</td>\n",
       "      <td>Point (95348.9349939392 97529.9556448078)</td>\n",
       "      <td>-58.514035</td>\n",
       "      <td>-34.651525</td>\n",
       "      <td>AUTO</td>\n",
       "    </tr>\n",
       "    <tr>\n",
       "      <th>22465</th>\n",
       "      <td>LC-2021-0542183</td>\n",
       "      <td>1</td>\n",
       "      <td>2021-10-31 00:00:00</td>\n",
       "      <td>10.0</td>\n",
       "      <td>10</td>\n",
       "      <td>AVENIDA</td>\n",
       "      <td>Point (99164.0892353634 99143.956203491)</td>\n",
       "      <td>-58.472417</td>\n",
       "      <td>-34.636986</td>\n",
       "      <td>NaN</td>\n",
       "    </tr>\n",
       "    <tr>\n",
       "      <th>4517</th>\n",
       "      <td>LC-2019-0343091</td>\n",
       "      <td>1</td>\n",
       "      <td>2019-06-02 00:00:00</td>\n",
       "      <td>1.0</td>\n",
       "      <td>No Especificada</td>\n",
       "      <td>NaN</td>\n",
       "      <td>NaN</td>\n",
       "      <td>NaN</td>\n",
       "      <td>NaN</td>\n",
       "      <td>NaN</td>\n",
       "    </tr>\n",
       "  </tbody>\n",
       "</table>\n",
       "</div>"
      ],
      "text/plain": [
       "              ID_HECHO  N_VICTIMAS                FECHA  HORA  \\\n",
       "12745  LC-2020-0233488           1  2020-05-09 00:00:00  13.0   \n",
       "22465  LC-2021-0542183           1  2021-10-31 00:00:00  10.0   \n",
       "4517   LC-2019-0343091           1  2019-06-02 00:00:00   1.0   \n",
       "\n",
       "                COMUNA TIPO_DE_CALLE  \\\n",
       "12745                9         CALLE   \n",
       "22465               10       AVENIDA   \n",
       "4517   No Especificada           NaN   \n",
       "\n",
       "                                       XY (CABA)   LONGITUD    LATUTID  \\\n",
       "12745  Point (95348.9349939392 97529.9556448078) -58.514035 -34.651525   \n",
       "22465   Point (99164.0892353634 99143.956203491) -58.472417 -34.636986   \n",
       "4517                                         NaN        NaN        NaN   \n",
       "\n",
       "      VEHICULO_ACUSADO  \n",
       "12745             AUTO  \n",
       "22465              NaN  \n",
       "4517               NaN  "
      ]
     },
     "execution_count": 106,
     "metadata": {},
     "output_type": "execute_result"
    }
   ],
   "source": [
    "# Pasar las columnas a mayusculas\n",
    "df_lesiones.columns = df_lesiones.columns.str.upper()\n",
    "\n",
    "# CAMBIAR NOMBRE DE LA COLUMNA FRANJA HORARIA\n",
    "df_lesiones = df_lesiones.rename(columns={'ID':'ID_HECHO'})\n",
    "df_lesiones = df_lesiones.rename(columns={'FRANJA_HORA':'HORA'})\n",
    "df_lesiones = df_lesiones.rename(columns={'TIPO_CALLE':'TIPO_DE_CALLE'})\n",
    "df_lesiones = df_lesiones.rename(columns={'TIPO_CALLE':'TIPO_DE_CALLE'})\n",
    "df_lesiones = df_lesiones.rename(columns={'GEOCODIFICACION_CABA':'XY (CABA)'})\n",
    "df_lesiones = df_lesiones.rename(columns={'ACUSADO':'VEHICULO_ACUSADO'})\n",
    "\n",
    "df_lesiones.sample(3)\t"
   ]
  },
  {
   "cell_type": "markdown",
   "metadata": {},
   "source": [
    "_Transformaciones_"
   ]
  },
  {
   "cell_type": "code",
   "execution_count": 107,
   "metadata": {},
   "outputs": [],
   "source": [
    "df_lesiones['FECHA'].replace(\"'\",\"\", inplace=True)\n",
    "df_lesiones['FECHA'] = df_lesiones['FECHA'].astype('datetime64[ns]')\n",
    "\n",
    "# Remplazar \"No especificada\" por nulos\n",
    "df_lesiones.loc[df_lesiones['COMUNA'] == 'No Especificada', 'COMUNA'] = np.nan"
   ]
  },
  {
   "cell_type": "code",
   "execution_count": 108,
   "metadata": {},
   "outputs": [
    {
     "data": {
      "text/plain": [
       "Index(['ID_HECHO', 'N_VICTIMAS', 'FECHA', 'HORA', 'COMUNA', 'TIPO_DE_CALLE',\n",
       "       'XY (CABA)', 'LONGITUD', 'LATUTID', 'VEHICULO_ACUSADO'],\n",
       "      dtype='object')"
      ]
     },
     "execution_count": 108,
     "metadata": {},
     "output_type": "execute_result"
    }
   ],
   "source": [
    "df_lesiones.columns"
   ]
  },
  {
   "cell_type": "code",
   "execution_count": 109,
   "metadata": {},
   "outputs": [],
   "source": [
    "# Guardamos el DF listo para su análisis\n",
    "df_lesiones.to_csv('./datasets/df_lesiones.csv',index=False)"
   ]
  },
  {
   "cell_type": "markdown",
   "metadata": {},
   "source": [
    "### _1.2.4 Lesiones_Victimas_"
   ]
  },
  {
   "cell_type": "code",
   "execution_count": 110,
   "metadata": {},
   "outputs": [
    {
     "data": {
      "text/html": [
       "<div>\n",
       "<style scoped>\n",
       "    .dataframe tbody tr th:only-of-type {\n",
       "        vertical-align: middle;\n",
       "    }\n",
       "\n",
       "    .dataframe tbody tr th {\n",
       "        vertical-align: top;\n",
       "    }\n",
       "\n",
       "    .dataframe thead th {\n",
       "        text-align: right;\n",
       "    }\n",
       "</style>\n",
       "<table border=\"1\" class=\"dataframe\">\n",
       "  <thead>\n",
       "    <tr style=\"text-align: right;\">\n",
       "      <th></th>\n",
       "      <th>ID hecho</th>\n",
       "      <th>AAA</th>\n",
       "      <th>MM</th>\n",
       "      <th>DD</th>\n",
       "      <th>FECHA</th>\n",
       "      <th>VEHICULO_VICTIMA</th>\n",
       "      <th>SEXO</th>\n",
       "      <th>EDAD_VICTIMA</th>\n",
       "      <th>GRAVEDAD</th>\n",
       "    </tr>\n",
       "  </thead>\n",
       "  <tbody>\n",
       "    <tr>\n",
       "      <th>10751</th>\n",
       "      <td>LC-2019-0700182</td>\n",
       "      <td>2019</td>\n",
       "      <td>11</td>\n",
       "      <td>6</td>\n",
       "      <td>2019-11-06</td>\n",
       "      <td>NaN</td>\n",
       "      <td>Mujer</td>\n",
       "      <td>24.0</td>\n",
       "      <td>NaN</td>\n",
       "    </tr>\n",
       "    <tr>\n",
       "      <th>13479</th>\n",
       "      <td>LC-2020-0236471</td>\n",
       "      <td>2020</td>\n",
       "      <td>5</td>\n",
       "      <td>12</td>\n",
       "      <td>2020-05-12</td>\n",
       "      <td>MOTO</td>\n",
       "      <td>Mujer</td>\n",
       "      <td>45.0</td>\n",
       "      <td>NaN</td>\n",
       "    </tr>\n",
       "    <tr>\n",
       "      <th>8100</th>\n",
       "      <td>LC-2019-0513293</td>\n",
       "      <td>2019</td>\n",
       "      <td>8</td>\n",
       "      <td>17</td>\n",
       "      <td>2019-08-17</td>\n",
       "      <td>NaN</td>\n",
       "      <td>Mujer</td>\n",
       "      <td>35.0</td>\n",
       "      <td>NaN</td>\n",
       "    </tr>\n",
       "  </tbody>\n",
       "</table>\n",
       "</div>"
      ],
      "text/plain": [
       "              ID hecho   AAA  MM  DD     FECHA  VEHICULO_VICTIMA   SEXO  \\\n",
       "10751  LC-2019-0700182  2019  11   6 2019-11-06              NaN  Mujer   \n",
       "13479  LC-2020-0236471  2020   5  12 2020-05-12             MOTO  Mujer   \n",
       "8100   LC-2019-0513293  2019   8  17 2019-08-17              NaN  Mujer   \n",
       "\n",
       "       EDAD_VICTIMA GRAVEDAD  \n",
       "10751          24.0      NaN  \n",
       "13479          45.0      NaN  \n",
       "8100           35.0      NaN  "
      ]
     },
     "metadata": {},
     "output_type": "display_data"
    }
   ],
   "source": [
    "display(df_vic_les.sample(3))\n"
   ]
  },
  {
   "cell_type": "code",
   "execution_count": 111,
   "metadata": {},
   "outputs": [
    {
     "data": {
      "text/plain": [
       "Index(['ID_HECHO', 'AAA', 'MM', 'DD', 'FECHA', 'VEHICULO_VICTIMA',\n",
       "       'SEXO_VICTIMA', 'EDAD_VICTIMA', 'GRAVEDAD'],\n",
       "      dtype='object')"
      ]
     },
     "execution_count": 111,
     "metadata": {},
     "output_type": "execute_result"
    }
   ],
   "source": [
    "# Pasar las columnas a mayusculas\n",
    "df_vic_les.columns = df_vic_les.columns.str.upper()\n",
    "\n",
    "# Cambiar nombres a las columnas para coincidir con el df_homicidios\n",
    "df_vic_les = df_vic_les.rename(columns={'ID HECHO':'ID_HECHO','FECHA ':'FECHA','SEXO':'SEXO_VICTIMA'})\n",
    "\n",
    "df_vic_les.columns"
   ]
  },
  {
   "cell_type": "markdown",
   "metadata": {},
   "source": [
    "_Removemos las columnas que no vamos a utilizar_"
   ]
  },
  {
   "cell_type": "code",
   "execution_count": 112,
   "metadata": {},
   "outputs": [
    {
     "data": {
      "text/plain": [
       "Index(['ID_HECHO', 'FECHA', 'VEHICULO_VICTIMA', 'SEXO_VICTIMA', 'EDAD_VICTIMA',\n",
       "       'GRAVEDAD'],\n",
       "      dtype='object')"
      ]
     },
     "execution_count": 112,
     "metadata": {},
     "output_type": "execute_result"
    }
   ],
   "source": [
    "df_vic_les.drop(columns=['AAA', 'MM', 'DD'], inplace=True)\n",
    "\n",
    "# Columnas\n",
    "df_vic_les.columns\n"
   ]
  },
  {
   "cell_type": "code",
   "execution_count": 113,
   "metadata": {},
   "outputs": [
    {
     "data": {
      "text/html": [
       "<div>\n",
       "<style scoped>\n",
       "    .dataframe tbody tr th:only-of-type {\n",
       "        vertical-align: middle;\n",
       "    }\n",
       "\n",
       "    .dataframe tbody tr th {\n",
       "        vertical-align: top;\n",
       "    }\n",
       "\n",
       "    .dataframe thead th {\n",
       "        text-align: right;\n",
       "    }\n",
       "</style>\n",
       "<table border=\"1\" class=\"dataframe\">\n",
       "  <thead>\n",
       "    <tr style=\"text-align: right;\">\n",
       "      <th></th>\n",
       "      <th>ID_HECHO</th>\n",
       "      <th>FECHA</th>\n",
       "      <th>VEHICULO_VICTIMA</th>\n",
       "      <th>SEXO_VICTIMA</th>\n",
       "      <th>EDAD_VICTIMA</th>\n",
       "      <th>GRAVEDAD</th>\n",
       "      <th>ROL_VICTIMA</th>\n",
       "    </tr>\n",
       "  </thead>\n",
       "  <tbody>\n",
       "    <tr>\n",
       "      <th>0</th>\n",
       "      <td>LC-2019-0000053</td>\n",
       "      <td>2019-01-01</td>\n",
       "      <td>NaN</td>\n",
       "      <td>Varon</td>\n",
       "      <td>57.0</td>\n",
       "      <td>LEVEMENTE HERIDO</td>\n",
       "      <td>NaN</td>\n",
       "    </tr>\n",
       "    <tr>\n",
       "      <th>1</th>\n",
       "      <td>LC-2019-0000063</td>\n",
       "      <td>2019-01-01</td>\n",
       "      <td>NaN</td>\n",
       "      <td>NaN</td>\n",
       "      <td>NaN</td>\n",
       "      <td>LEVEMENTE HERIDO</td>\n",
       "      <td>NaN</td>\n",
       "    </tr>\n",
       "    <tr>\n",
       "      <th>2</th>\n",
       "      <td>LC-2019-0000079</td>\n",
       "      <td>2019-01-01</td>\n",
       "      <td>NaN</td>\n",
       "      <td>Varon</td>\n",
       "      <td>NaN</td>\n",
       "      <td>LEVEMENTE HERIDO</td>\n",
       "      <td>NaN</td>\n",
       "    </tr>\n",
       "  </tbody>\n",
       "</table>\n",
       "</div>"
      ],
      "text/plain": [
       "          ID_HECHO      FECHA VEHICULO_VICTIMA SEXO_VICTIMA  EDAD_VICTIMA  \\\n",
       "0  LC-2019-0000053 2019-01-01              NaN        Varon          57.0   \n",
       "1  LC-2019-0000063 2019-01-01              NaN          NaN           NaN   \n",
       "2  LC-2019-0000079 2019-01-01              NaN        Varon           NaN   \n",
       "\n",
       "           GRAVEDAD  ROL_VICTIMA  \n",
       "0  LEVEMENTE HERIDO          NaN  \n",
       "1  LEVEMENTE HERIDO          NaN  \n",
       "2  LEVEMENTE HERIDO          NaN  "
      ]
     },
     "execution_count": 113,
     "metadata": {},
     "output_type": "execute_result"
    }
   ],
   "source": [
    "# Creamos la columna ROL_VICTIMA con nulls\n",
    "df_vic_les['ROL_VICTIMA'] = np.nan\n",
    "\n",
    "# remplazar los nulos de la columna GRAVEDAD por \"LEVEMENTE HERIDO\"\n",
    "df_vic_les.loc[df_vic_les['GRAVEDAD'].isnull(), 'GRAVEDAD'] = 'LEVEMENTE HERIDO'\n",
    "\n",
    "df_vic_les.head(3)"
   ]
  },
  {
   "cell_type": "markdown",
   "metadata": {},
   "source": [
    "_Transformaciones de datos_"
   ]
  },
  {
   "cell_type": "code",
   "execution_count": 114,
   "metadata": {},
   "outputs": [
    {
     "name": "stdout",
     "output_type": "stream",
     "text": [
      "<class 'pandas.core.frame.DataFrame'>\n",
      "RangeIndex: 27605 entries, 0 to 27604\n",
      "Data columns (total 7 columns):\n",
      " #   Column            Non-Null Count  Dtype         \n",
      "---  ------            --------------  -----         \n",
      " 0   ID_HECHO          27605 non-null  object        \n",
      " 1   FECHA             27605 non-null  datetime64[ns]\n",
      " 2   VEHICULO_VICTIMA  11333 non-null  object        \n",
      " 3   SEXO_VICTIMA      25377 non-null  object        \n",
      " 4   EDAD_VICTIMA      23134 non-null  float64       \n",
      " 5   GRAVEDAD          27605 non-null  object        \n",
      " 6   ROL_VICTIMA       0 non-null      float64       \n",
      "dtypes: datetime64[ns](1), float64(2), object(4)\n",
      "memory usage: 1.5+ MB\n"
     ]
    }
   ],
   "source": [
    "df_vic_les.info()"
   ]
  },
  {
   "cell_type": "code",
   "execution_count": 115,
   "metadata": {},
   "outputs": [],
   "source": [
    "# Rango Etario\n",
    "df_vic_les['EDAD_VICTIMA'] = df_vic_les['EDAD_VICTIMA'].astype('float')\n",
    "df_vic_les['RANGO_ETARIO'] = df_vic_les['EDAD_VICTIMA'].apply(lambda x: rango_etario(x))"
   ]
  },
  {
   "cell_type": "code",
   "execution_count": 116,
   "metadata": {},
   "outputs": [],
   "source": [
    "# Unificar en FEMENINO y MASCULINO\n",
    "df_vic_les.loc[df_vic_les['SEXO_VICTIMA'] == 'MUJER', 'SEXO_VICTIMA'] = 'FEMENINO'\n",
    "df_vic_les.loc[df_vic_les['SEXO_VICTIMA'] == 'Mujer', 'SEXO_VICTIMA'] = 'FEMENINO'\n",
    "df_vic_les.loc[df_vic_les['SEXO_VICTIMA'] == 'mujer ', 'SEXO_VICTIMA'] = 'FEMENINO'\n",
    "df_vic_les.loc[df_vic_les['SEXO_VICTIMA'] == 'mujer', 'SEXO_VICTIMA'] = 'FEMENINO'\n",
    "df_vic_les.loc[df_vic_les['SEXO_VICTIMA'] == 'Mujer ', 'SEXO_VICTIMA'] = 'FEMENINO'\n",
    "df_vic_les.loc[df_vic_les['SEXO_VICTIMA'] == 'Varon', 'SEXO_VICTIMA'] = 'MASCULINO'\n",
    "df_vic_les.loc[df_vic_les['SEXO_VICTIMA'] == 'varon', 'SEXO_VICTIMA'] = 'MASCULINO'\n"
   ]
  },
  {
   "cell_type": "code",
   "execution_count": 117,
   "metadata": {},
   "outputs": [
    {
     "data": {
      "text/plain": [
       "array(['MASCULINO', nan, 'FEMENINO'], dtype=object)"
      ]
     },
     "execution_count": 117,
     "metadata": {},
     "output_type": "execute_result"
    }
   ],
   "source": [
    "# inprime valores unicos de la columna SEXO_VICTIMA\n",
    "df_vic_les['SEXO_VICTIMA'].unique()\n"
   ]
  },
  {
   "cell_type": "code",
   "execution_count": 118,
   "metadata": {},
   "outputs": [],
   "source": [
    "# Guardamos el DF listo para su análisis\n",
    "df_vic_les.to_csv('./datasets/df_vic_les.csv',index=False)"
   ]
  }
 ],
 "metadata": {
  "kernelspec": {
   "display_name": "Python 3",
   "language": "python",
   "name": "python3"
  },
  "language_info": {
   "codemirror_mode": {
    "name": "ipython",
    "version": 3
   },
   "file_extension": ".py",
   "mimetype": "text/x-python",
   "name": "python",
   "nbconvert_exporter": "python",
   "pygments_lexer": "ipython3",
   "version": "3.10.8"
  },
  "orig_nbformat": 4
 },
 "nbformat": 4,
 "nbformat_minor": 2
}
