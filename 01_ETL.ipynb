{
 "cells": [
  {
   "cell_type": "markdown",
   "metadata": {},
   "source": [
    "<h1 align='center' style=color:Red;text-weight:800>\n",
    "1. Extracción Transformación y Carga (ETL)\n",
    "</h1>"
   ]
  },
  {
   "cell_type": "markdown",
   "metadata": {},
   "source": [
    "## _1.1 Extracción_"
   ]
  },
  {
   "cell_type": "code",
   "execution_count": 33,
   "metadata": {},
   "outputs": [],
   "source": [
    "# Carga de librerías\n",
    "import pandas as pd\n",
    "import numpy as np\n",
    "import matplotlib.pyplot as plt\n",
    "import seaborn as sns"
   ]
  },
  {
   "cell_type": "markdown",
   "metadata": {},
   "source": [
    "_Carga el de los archivos a utilizar en el análisis_"
   ]
  },
  {
   "cell_type": "code",
   "execution_count": 34,
   "metadata": {},
   "outputs": [],
   "source": [
    "df_homicidios = pd.read_excel('./datasets/homicidios.xlsx',sheet_name = 'HECHOS')\n",
    "df_vic_hom    = pd.read_excel('./datasets/homicidios.xlsx',sheet_name = 'VICTIMAS')\n",
    "df_lesiones   = pd.read_excel('./datasets/lesiones.xlsx' , sheet_name = 'HECHOS')\n",
    "df_vic_les    = pd.read_excel('./datasets/lesiones.xlsx' , sheet_name = 'VICTIMAS')"
   ]
  },
  {
   "cell_type": "markdown",
   "metadata": {},
   "source": [
    "## _1.2 Transformación_"
   ]
  },
  {
   "cell_type": "markdown",
   "metadata": {},
   "source": [
    "### _1.2.1 Homicidios_Hechos_"
   ]
  },
  {
   "cell_type": "code",
   "execution_count": 35,
   "metadata": {},
   "outputs": [
    {
     "data": {
      "text/html": [
       "<div>\n",
       "<style scoped>\n",
       "    .dataframe tbody tr th:only-of-type {\n",
       "        vertical-align: middle;\n",
       "    }\n",
       "\n",
       "    .dataframe tbody tr th {\n",
       "        vertical-align: top;\n",
       "    }\n",
       "\n",
       "    .dataframe thead th {\n",
       "        text-align: right;\n",
       "    }\n",
       "</style>\n",
       "<table border=\"1\" class=\"dataframe\">\n",
       "  <thead>\n",
       "    <tr style=\"text-align: right;\">\n",
       "      <th></th>\n",
       "      <th>ID</th>\n",
       "      <th>N_VICTIMAS</th>\n",
       "      <th>FECHA</th>\n",
       "      <th>AAAA</th>\n",
       "      <th>MM</th>\n",
       "      <th>DD</th>\n",
       "      <th>HORA</th>\n",
       "      <th>HH</th>\n",
       "      <th>LUGAR_DEL_HECHO</th>\n",
       "      <th>TIPO_DE_CALLE</th>\n",
       "      <th>...</th>\n",
       "      <th>Altura</th>\n",
       "      <th>Cruce</th>\n",
       "      <th>Dirección Normalizada</th>\n",
       "      <th>COMUNA</th>\n",
       "      <th>XY (CABA)</th>\n",
       "      <th>pos x</th>\n",
       "      <th>pos y</th>\n",
       "      <th>PARTICIPANTES</th>\n",
       "      <th>VICTIMA</th>\n",
       "      <th>ACUSADO</th>\n",
       "    </tr>\n",
       "  </thead>\n",
       "  <tbody>\n",
       "    <tr>\n",
       "      <th>640</th>\n",
       "      <td>2021-0042</td>\n",
       "      <td>1</td>\n",
       "      <td>2021-05-21</td>\n",
       "      <td>2021</td>\n",
       "      <td>5</td>\n",
       "      <td>21</td>\n",
       "      <td>05:00:00</td>\n",
       "      <td>5</td>\n",
       "      <td>RIVADAVIA AV. 10900</td>\n",
       "      <td>AVENIDA</td>\n",
       "      <td>...</td>\n",
       "      <td>10900.0</td>\n",
       "      <td>NaN</td>\n",
       "      <td>RIVADAVIA AV. 10900</td>\n",
       "      <td>9</td>\n",
       "      <td>Point (95040.52119933 98883.98738744)</td>\n",
       "      <td>-58.51739138</td>\n",
       "      <td>-34.63931792</td>\n",
       "      <td>PEATON-PASAJEROS</td>\n",
       "      <td>PEATON</td>\n",
       "      <td>PASAJEROS</td>\n",
       "    </tr>\n",
       "    <tr>\n",
       "      <th>139</th>\n",
       "      <td>2016-0174</td>\n",
       "      <td>1</td>\n",
       "      <td>2016-12-27</td>\n",
       "      <td>2016</td>\n",
       "      <td>12</td>\n",
       "      <td>27</td>\n",
       "      <td>00:00:00</td>\n",
       "      <td>0</td>\n",
       "      <td>AUTOPISTA 25 DE MAYO</td>\n",
       "      <td>AUTOPISTA</td>\n",
       "      <td>...</td>\n",
       "      <td>NaN</td>\n",
       "      <td>NaN</td>\n",
       "      <td>AUTOPISTA 25 DE MAYO</td>\n",
       "      <td>0</td>\n",
       "      <td>Point (. .)</td>\n",
       "      <td>.</td>\n",
       "      <td>.</td>\n",
       "      <td>SD-SD</td>\n",
       "      <td>SD</td>\n",
       "      <td>SD</td>\n",
       "    </tr>\n",
       "    <tr>\n",
       "      <th>411</th>\n",
       "      <td>2018-0137</td>\n",
       "      <td>1</td>\n",
       "      <td>2018-12-18</td>\n",
       "      <td>2018</td>\n",
       "      <td>12</td>\n",
       "      <td>18</td>\n",
       "      <td>20:15:00</td>\n",
       "      <td>20</td>\n",
       "      <td>Adolfo Alsina y Santiago del Estero</td>\n",
       "      <td>CALLE</td>\n",
       "      <td>...</td>\n",
       "      <td>NaN</td>\n",
       "      <td>SANTIAGO DEL ESTERO</td>\n",
       "      <td>ALSINA, ADOLFO y SANTIAGO DEL ESTERO</td>\n",
       "      <td>1</td>\n",
       "      <td>Point (107198.03031731 102023.53206745)</td>\n",
       "      <td>-58.38481975</td>\n",
       "      <td>-34.61100424</td>\n",
       "      <td>MOTO-PASAJEROS</td>\n",
       "      <td>MOTO</td>\n",
       "      <td>PASAJEROS</td>\n",
       "    </tr>\n",
       "  </tbody>\n",
       "</table>\n",
       "<p>3 rows × 21 columns</p>\n",
       "</div>"
      ],
      "text/plain": [
       "            ID  N_VICTIMAS      FECHA  AAAA  MM  DD      HORA  HH  \\\n",
       "640  2021-0042           1 2021-05-21  2021   5  21  05:00:00   5   \n",
       "139  2016-0174           1 2016-12-27  2016  12  27  00:00:00   0   \n",
       "411  2018-0137           1 2018-12-18  2018  12  18  20:15:00  20   \n",
       "\n",
       "                         LUGAR_DEL_HECHO TIPO_DE_CALLE  ...   Altura  \\\n",
       "640                  RIVADAVIA AV. 10900       AVENIDA  ...  10900.0   \n",
       "139                 AUTOPISTA 25 DE MAYO     AUTOPISTA  ...      NaN   \n",
       "411  Adolfo Alsina y Santiago del Estero         CALLE  ...      NaN   \n",
       "\n",
       "                   Cruce                 Dirección Normalizada COMUNA  \\\n",
       "640                  NaN                   RIVADAVIA AV. 10900      9   \n",
       "139                  NaN                  AUTOPISTA 25 DE MAYO      0   \n",
       "411  SANTIAGO DEL ESTERO  ALSINA, ADOLFO y SANTIAGO DEL ESTERO      1   \n",
       "\n",
       "                                   XY (CABA)         pos x         pos y  \\\n",
       "640    Point (95040.52119933 98883.98738744)  -58.51739138  -34.63931792   \n",
       "139                              Point (. .)             .             .   \n",
       "411  Point (107198.03031731 102023.53206745)  -58.38481975  -34.61100424   \n",
       "\n",
       "        PARTICIPANTES VICTIMA    ACUSADO  \n",
       "640  PEATON-PASAJEROS  PEATON  PASAJEROS  \n",
       "139             SD-SD      SD         SD  \n",
       "411    MOTO-PASAJEROS    MOTO  PASAJEROS  \n",
       "\n",
       "[3 rows x 21 columns]"
      ]
     },
     "metadata": {},
     "output_type": "display_data"
    }
   ],
   "source": [
    "display(df_homicidios.sample(3))"
   ]
  },
  {
   "cell_type": "markdown",
   "metadata": {},
   "source": [
    "_Removemos las columnas que no vamos a utilizar_"
   ]
  },
  {
   "cell_type": "code",
   "execution_count": 36,
   "metadata": {},
   "outputs": [],
   "source": [
    "df_homicidios.drop(columns=['AAAA', 'MM', 'DD', 'HORA', 'LUGAR_DEL_HECHO', 'Calle', \n",
    "                            'Altura', 'Cruce', 'Dirección Normalizada', 'PARTICIPANTES'], inplace=True)\n"
   ]
  },
  {
   "cell_type": "code",
   "execution_count": 37,
   "metadata": {},
   "outputs": [
    {
     "name": "stdout",
     "output_type": "stream",
     "text": [
      "<class 'pandas.core.frame.DataFrame'>\n",
      "RangeIndex: 696 entries, 0 to 695\n",
      "Data columns (total 11 columns):\n",
      " #   Column         Non-Null Count  Dtype         \n",
      "---  ------         --------------  -----         \n",
      " 0   ID             696 non-null    object        \n",
      " 1   N_VICTIMAS     696 non-null    int64         \n",
      " 2   FECHA          696 non-null    datetime64[ns]\n",
      " 3   HH             696 non-null    object        \n",
      " 4   TIPO_DE_CALLE  696 non-null    object        \n",
      " 5   COMUNA         696 non-null    int64         \n",
      " 6   XY (CABA)      696 non-null    object        \n",
      " 7   pos x          696 non-null    object        \n",
      " 8   pos y          696 non-null    object        \n",
      " 9   VICTIMA        696 non-null    object        \n",
      " 10  ACUSADO        696 non-null    object        \n",
      "dtypes: datetime64[ns](1), int64(2), object(8)\n",
      "memory usage: 59.9+ KB\n",
      "None\n"
     ]
    }
   ],
   "source": [
    "print(df_homicidios.info())"
   ]
  },
  {
   "cell_type": "markdown",
   "metadata": {},
   "source": [
    "_Transformaciones de datos_"
   ]
  },
  {
   "cell_type": "code",
   "execution_count": 38,
   "metadata": {},
   "outputs": [],
   "source": [
    "# remplazamos por null los valores 'SD' que no son un valor numérico\n",
    "df_homicidios.loc[df_homicidios['HH'] == 'SD', 'HH'] = np.nan\n",
    "\n",
    "# remplazar los \".\" por nulos en latitud y longitud\n",
    "df_homicidios.loc[df_homicidios['pos x'] == '.' ,'pos x'] = np.nan\n",
    "df_homicidios.loc[df_homicidios['pos y'] == '.' ,'pos y'] = np.nan\n",
    "df_homicidios.loc[df_homicidios['XY (CABA)'] == 'Point (. .)' ,'XY (CABA)'] = np.nan\n",
    "\n",
    "\n"
   ]
  },
  {
   "cell_type": "code",
   "execution_count": 39,
   "metadata": {},
   "outputs": [
    {
     "name": "stdout",
     "output_type": "stream",
     "text": [
      "<class 'pandas.core.frame.DataFrame'>\n",
      "RangeIndex: 696 entries, 0 to 695\n",
      "Data columns (total 11 columns):\n",
      " #   Column         Non-Null Count  Dtype         \n",
      "---  ------         --------------  -----         \n",
      " 0   ID             696 non-null    object        \n",
      " 1   N_VICTIMAS     696 non-null    int64         \n",
      " 2   FECHA          696 non-null    datetime64[ns]\n",
      " 3   HH             695 non-null    category      \n",
      " 4   TIPO_DE_CALLE  696 non-null    category      \n",
      " 5   COMUNA         696 non-null    category      \n",
      " 6   XY (CABA)      682 non-null    object        \n",
      " 7   pos x          684 non-null    float64       \n",
      " 8   pos y          684 non-null    float64       \n",
      " 9   VICTIMA        696 non-null    category      \n",
      " 10  ACUSADO        696 non-null    category      \n",
      "dtypes: category(5), datetime64[ns](1), float64(2), int64(1), object(2)\n",
      "memory usage: 38.5+ KB\n"
     ]
    }
   ],
   "source": [
    "# cambio a formato categórico\n",
    "df_homicidios['HH'] = df_homicidios['HH'].astype('category')\n",
    "df_homicidios['TIPO_DE_CALLE'] = df_homicidios['TIPO_DE_CALLE'].astype('category')\n",
    "df_homicidios['COMUNA'] = df_homicidios['COMUNA'].astype('category')\n",
    "df_homicidios['VICTIMA'] = df_homicidios['VICTIMA'].astype('category')\n",
    "df_homicidios['ACUSADO'] = df_homicidios['ACUSADO'].astype('category')\n",
    "\n",
    "df_homicidios['pos x'] = df_homicidios['pos x'].astype('float')\n",
    "df_homicidios['pos y'] = df_homicidios['pos y'].astype('float')\n",
    "\n",
    "df_homicidios.info()\n"
   ]
  },
  {
   "cell_type": "code",
   "execution_count": 40,
   "metadata": {},
   "outputs": [],
   "source": [
    "# # borrando los registros nulos que son 15 que representa el 2.1% de los datos\n",
    "# df_homicidios.isnull().sum()\n",
    "# df_homicidios.dropna(inplace=True)"
   ]
  },
  {
   "cell_type": "markdown",
   "metadata": {},
   "source": [
    "_Guardamos el DF listo para su análisis_"
   ]
  },
  {
   "cell_type": "code",
   "execution_count": 41,
   "metadata": {},
   "outputs": [],
   "source": [
    "# Guardamos el DF listo para su análisis\n",
    "df_homicidios.to_csv('./datasets/df_homicidios.csv',index=False)"
   ]
  },
  {
   "cell_type": "markdown",
   "metadata": {},
   "source": [
    "### _1.2.2 Homicidios_Victimas_"
   ]
  },
  {
   "cell_type": "code",
   "execution_count": 42,
   "metadata": {},
   "outputs": [
    {
     "data": {
      "text/html": [
       "<div>\n",
       "<style scoped>\n",
       "    .dataframe tbody tr th:only-of-type {\n",
       "        vertical-align: middle;\n",
       "    }\n",
       "\n",
       "    .dataframe tbody tr th {\n",
       "        vertical-align: top;\n",
       "    }\n",
       "\n",
       "    .dataframe thead th {\n",
       "        text-align: right;\n",
       "    }\n",
       "</style>\n",
       "<table border=\"1\" class=\"dataframe\">\n",
       "  <thead>\n",
       "    <tr style=\"text-align: right;\">\n",
       "      <th></th>\n",
       "      <th>ID_hecho</th>\n",
       "      <th>FECHA</th>\n",
       "      <th>AAAA</th>\n",
       "      <th>MM</th>\n",
       "      <th>DD</th>\n",
       "      <th>ROL</th>\n",
       "      <th>VICTIMA</th>\n",
       "      <th>SEXO</th>\n",
       "      <th>EDAD</th>\n",
       "      <th>FECHA_FALLECIMIENTO</th>\n",
       "    </tr>\n",
       "  </thead>\n",
       "  <tbody>\n",
       "    <tr>\n",
       "      <th>29</th>\n",
       "      <td>2016-0041</td>\n",
       "      <td>2016-03-29</td>\n",
       "      <td>2016</td>\n",
       "      <td>3</td>\n",
       "      <td>29</td>\n",
       "      <td>CONDUCTOR</td>\n",
       "      <td>MOTO</td>\n",
       "      <td>MASCULINO</td>\n",
       "      <td>54</td>\n",
       "      <td>2016-03-29 00:00:00</td>\n",
       "    </tr>\n",
       "    <tr>\n",
       "      <th>179</th>\n",
       "      <td>2017-0038</td>\n",
       "      <td>2017-04-01</td>\n",
       "      <td>2017</td>\n",
       "      <td>4</td>\n",
       "      <td>1</td>\n",
       "      <td>CONDUCTOR</td>\n",
       "      <td>MOTO</td>\n",
       "      <td>FEMENINO</td>\n",
       "      <td>40</td>\n",
       "      <td>2017-04-01 00:00:00</td>\n",
       "    </tr>\n",
       "    <tr>\n",
       "      <th>183</th>\n",
       "      <td>2017-0045</td>\n",
       "      <td>2017-04-14</td>\n",
       "      <td>2017</td>\n",
       "      <td>4</td>\n",
       "      <td>14</td>\n",
       "      <td>CONDUCTOR</td>\n",
       "      <td>MOTO</td>\n",
       "      <td>MASCULINO</td>\n",
       "      <td>21</td>\n",
       "      <td>2017-04-14 00:00:00</td>\n",
       "    </tr>\n",
       "  </tbody>\n",
       "</table>\n",
       "</div>"
      ],
      "text/plain": [
       "      ID_hecho      FECHA  AAAA  MM  DD        ROL VICTIMA       SEXO EDAD  \\\n",
       "29   2016-0041 2016-03-29  2016   3  29  CONDUCTOR    MOTO  MASCULINO   54   \n",
       "179  2017-0038 2017-04-01  2017   4   1  CONDUCTOR    MOTO   FEMENINO   40   \n",
       "183  2017-0045 2017-04-14  2017   4  14  CONDUCTOR    MOTO  MASCULINO   21   \n",
       "\n",
       "     FECHA_FALLECIMIENTO  \n",
       "29   2016-03-29 00:00:00  \n",
       "179  2017-04-01 00:00:00  \n",
       "183  2017-04-14 00:00:00  "
      ]
     },
     "metadata": {},
     "output_type": "display_data"
    }
   ],
   "source": [
    "display(df_vic_hom.sample(3))"
   ]
  },
  {
   "cell_type": "code",
   "execution_count": 43,
   "metadata": {},
   "outputs": [
    {
     "name": "stdout",
     "output_type": "stream",
     "text": [
      "<class 'pandas.core.frame.DataFrame'>\n",
      "RangeIndex: 717 entries, 0 to 716\n",
      "Data columns (total 10 columns):\n",
      " #   Column               Non-Null Count  Dtype         \n",
      "---  ------               --------------  -----         \n",
      " 0   ID_hecho             717 non-null    object        \n",
      " 1   FECHA                717 non-null    datetime64[ns]\n",
      " 2   AAAA                 717 non-null    int64         \n",
      " 3   MM                   717 non-null    int64         \n",
      " 4   DD                   717 non-null    int64         \n",
      " 5   ROL                  717 non-null    object        \n",
      " 6   VICTIMA              717 non-null    object        \n",
      " 7   SEXO                 717 non-null    object        \n",
      " 8   EDAD                 717 non-null    object        \n",
      " 9   FECHA_FALLECIMIENTO  717 non-null    object        \n",
      "dtypes: datetime64[ns](1), int64(3), object(6)\n",
      "memory usage: 56.1+ KB\n",
      "None\n"
     ]
    }
   ],
   "source": [
    "print(df_vic_hom.info())"
   ]
  },
  {
   "cell_type": "markdown",
   "metadata": {},
   "source": [
    "_Removemos las columnas que no vamos a utilizar_"
   ]
  },
  {
   "cell_type": "code",
   "execution_count": 44,
   "metadata": {},
   "outputs": [],
   "source": [
    "df_vic_hom.drop(columns=['AAAA', 'MM', 'DD', 'FECHA_FALLECIMIENTO'], inplace=True)\n"
   ]
  },
  {
   "cell_type": "markdown",
   "metadata": {},
   "source": [
    "_Transformaciones de datos_"
   ]
  },
  {
   "cell_type": "code",
   "execution_count": 45,
   "metadata": {},
   "outputs": [],
   "source": [
    "# función que regresa 1 si la edad es menor a 18, 2 si la edad esta entre 18 y 29\n",
    "# 3 si la edad esta entre 30 y 39, 4 si la edad esta entre 40 a 49 , 5 si la edad es de 50 a 59\n",
    "# y 6 si la edad es igual o mayor a 60 \n",
    "def rango_etario(edad):\n",
    "    if edad < 18:\n",
    "        return \"1_ 0 a 17 años\"\n",
    "    elif 18 <= edad <= 29:\n",
    "        return \"2_ 18 a 29 años\"\n",
    "    elif 30 <= edad <= 39:\n",
    "        return \"3_ 30 a 39 años\"\n",
    "    elif 40 <= edad <= 49:\n",
    "        return \"4_ 45 a 49 años\"\n",
    "    elif 50 <= edad <= 59:\n",
    "        return \"5_ 50 a 59 años\"\n",
    "    elif edad >= 60:\n",
    "        return \"6_ 60 años o mas\"\n",
    "    else:\n",
    "        return np.nan\n"
   ]
  },
  {
   "cell_type": "code",
   "execution_count": 46,
   "metadata": {},
   "outputs": [],
   "source": [
    "# Cambio de SD por nulos para ser mas visibles\n",
    "df_vic_hom.loc[df_vic_hom['ROL'] == 'SD', 'ROL'] = np.nan\n",
    "df_vic_hom.loc[df_vic_hom['VICTIMA'] == 'SD', 'VICTIMA'] = np.nan\n",
    "df_vic_hom.loc[df_vic_hom['SEXO'] == 'SD', 'SEXO'] = np.nan\n",
    "\n",
    "# Rango Etario\n",
    "df_vic_hom.loc[df_vic_hom['EDAD'] == 'SD', 'EDAD'] = np.nan\n",
    "df_vic_hom.loc[df_vic_hom['EDAD'] == 'sd', 'EDAD'] = np.nan\n",
    "df_vic_hom['EDAD'] = df_vic_hom['EDAD'].astype('float')\n",
    "df_vic_hom['Rango_etario'] = df_vic_hom['EDAD'].apply(lambda x: rango_etario(x))\n"
   ]
  },
  {
   "cell_type": "code",
   "execution_count": 47,
   "metadata": {},
   "outputs": [
    {
     "name": "stdout",
     "output_type": "stream",
     "text": [
      "<class 'pandas.core.frame.DataFrame'>\n",
      "RangeIndex: 717 entries, 0 to 716\n",
      "Data columns (total 7 columns):\n",
      " #   Column        Non-Null Count  Dtype         \n",
      "---  ------        --------------  -----         \n",
      " 0   ID_hecho      717 non-null    object        \n",
      " 1   FECHA         717 non-null    datetime64[ns]\n",
      " 2   ROL           706 non-null    object        \n",
      " 3   VICTIMA       708 non-null    object        \n",
      " 4   SEXO          711 non-null    object        \n",
      " 5   EDAD          664 non-null    float64       \n",
      " 6   Rango_etario  664 non-null    object        \n",
      "dtypes: datetime64[ns](1), float64(1), object(5)\n",
      "memory usage: 39.3+ KB\n"
     ]
    }
   ],
   "source": [
    "df_vic_hom['Rango_etario'] = df_vic_hom['EDAD'].apply(lambda x: rango_etario(x))\n",
    "df_vic_hom.info()"
   ]
  },
  {
   "cell_type": "code",
   "execution_count": 48,
   "metadata": {},
   "outputs": [
    {
     "name": "stdout",
     "output_type": "stream",
     "text": [
      "<class 'pandas.core.frame.DataFrame'>\n",
      "RangeIndex: 717 entries, 0 to 716\n",
      "Data columns (total 6 columns):\n",
      " #   Column        Non-Null Count  Dtype         \n",
      "---  ------        --------------  -----         \n",
      " 0   ID_hecho      717 non-null    category      \n",
      " 1   FECHA         717 non-null    datetime64[ns]\n",
      " 2   ROL           706 non-null    category      \n",
      " 3   VICTIMA       708 non-null    category      \n",
      " 4   SEXO          711 non-null    category      \n",
      " 5   Rango_etario  664 non-null    category      \n",
      "dtypes: category(5), datetime64[ns](1)\n",
      "memory usage: 32.4 KB\n"
     ]
    }
   ],
   "source": [
    "# cambio a formato categórico\n",
    "df_vic_hom['ID_hecho'] = df_vic_hom['ID_hecho'].astype('category')\n",
    "df_vic_hom['ROL'] = df_vic_hom['ROL'].astype('category')\n",
    "df_vic_hom['VICTIMA'] = df_vic_hom['VICTIMA'].astype('category')\n",
    "df_vic_hom['SEXO'] = df_vic_hom['SEXO'].astype('category')\n",
    "df_vic_hom['Rango_etario'] = df_vic_hom['Rango_etario'].astype('category')\n",
    "\n",
    "\n",
    "df_vic_hom.drop(columns='EDAD',inplace=True)\n",
    "\n",
    "df_vic_hom.info()"
   ]
  },
  {
   "cell_type": "code",
   "execution_count": 49,
   "metadata": {},
   "outputs": [],
   "source": [
    "# Guardamos el DF listo para su análisis\n",
    "df_vic_hom.to_csv('./datasets/df_vic_hom.csv',index=False)"
   ]
  },
  {
   "cell_type": "markdown",
   "metadata": {},
   "source": [
    "### _1.2.3 Lesiones_Hechos_"
   ]
  },
  {
   "cell_type": "code",
   "execution_count": 50,
   "metadata": {},
   "outputs": [
    {
     "data": {
      "text/html": [
       "<div>\n",
       "<style scoped>\n",
       "    .dataframe tbody tr th:only-of-type {\n",
       "        vertical-align: middle;\n",
       "    }\n",
       "\n",
       "    .dataframe tbody tr th {\n",
       "        vertical-align: top;\n",
       "    }\n",
       "\n",
       "    .dataframe thead th {\n",
       "        text-align: right;\n",
       "    }\n",
       "</style>\n",
       "<table border=\"1\" class=\"dataframe\">\n",
       "  <thead>\n",
       "    <tr style=\"text-align: right;\">\n",
       "      <th></th>\n",
       "      <th>id</th>\n",
       "      <th>n_victimas</th>\n",
       "      <th>aaaa</th>\n",
       "      <th>mm</th>\n",
       "      <th>dd</th>\n",
       "      <th>fecha</th>\n",
       "      <th>hora</th>\n",
       "      <th>franja_hora</th>\n",
       "      <th>direccion_normalizada</th>\n",
       "      <th>comuna</th>\n",
       "      <th>...</th>\n",
       "      <th>latutid</th>\n",
       "      <th>victima</th>\n",
       "      <th>acusado</th>\n",
       "      <th>participantes</th>\n",
       "      <th>moto</th>\n",
       "      <th>auto</th>\n",
       "      <th>transporte_publico</th>\n",
       "      <th>camion</th>\n",
       "      <th>ciclista</th>\n",
       "      <th>gravedad</th>\n",
       "    </tr>\n",
       "  </thead>\n",
       "  <tbody>\n",
       "    <tr>\n",
       "      <th>4038</th>\n",
       "      <td>LC-2019-0308997</td>\n",
       "      <td>1</td>\n",
       "      <td>2019</td>\n",
       "      <td>5</td>\n",
       "      <td>17</td>\n",
       "      <td>2019-05-17 00:00:00</td>\n",
       "      <td>12:57:00</td>\n",
       "      <td>12</td>\n",
       "      <td>SD</td>\n",
       "      <td>4</td>\n",
       "      <td>...</td>\n",
       "      <td>-34.651413</td>\n",
       "      <td>SD</td>\n",
       "      <td>SD</td>\n",
       "      <td>SD-SD</td>\n",
       "      <td>SD</td>\n",
       "      <td>SD</td>\n",
       "      <td>SD</td>\n",
       "      <td>SD</td>\n",
       "      <td>SD</td>\n",
       "      <td>SD</td>\n",
       "    </tr>\n",
       "    <tr>\n",
       "      <th>2831</th>\n",
       "      <td>LC-2019-0225650</td>\n",
       "      <td>1</td>\n",
       "      <td>2019</td>\n",
       "      <td>4</td>\n",
       "      <td>10</td>\n",
       "      <td>2019-04-10 00:00:00</td>\n",
       "      <td>22:50:00</td>\n",
       "      <td>22</td>\n",
       "      <td>SD</td>\n",
       "      <td>2</td>\n",
       "      <td>...</td>\n",
       "      <td>-34.591059</td>\n",
       "      <td>SD</td>\n",
       "      <td>SD</td>\n",
       "      <td>SD-SD</td>\n",
       "      <td>x</td>\n",
       "      <td>SD</td>\n",
       "      <td>x</td>\n",
       "      <td>SD</td>\n",
       "      <td>SD</td>\n",
       "      <td>SD</td>\n",
       "    </tr>\n",
       "    <tr>\n",
       "      <th>20391</th>\n",
       "      <td>LC-2021-0449524</td>\n",
       "      <td>1</td>\n",
       "      <td>2021</td>\n",
       "      <td>8</td>\n",
       "      <td>2</td>\n",
       "      <td>2021-08-02 00:00:00</td>\n",
       "      <td>20:00:00</td>\n",
       "      <td>20</td>\n",
       "      <td>SD</td>\n",
       "      <td>SD</td>\n",
       "      <td>...</td>\n",
       "      <td>SD</td>\n",
       "      <td>SD</td>\n",
       "      <td>SD</td>\n",
       "      <td>SD-SD</td>\n",
       "      <td>SD</td>\n",
       "      <td>SD</td>\n",
       "      <td>SD</td>\n",
       "      <td>SD</td>\n",
       "      <td>SD</td>\n",
       "      <td>SD</td>\n",
       "    </tr>\n",
       "  </tbody>\n",
       "</table>\n",
       "<p>3 rows × 27 columns</p>\n",
       "</div>"
      ],
      "text/plain": [
       "                    id  n_victimas  aaaa  mm  dd                fecha  \\\n",
       "4038   LC-2019-0308997           1  2019   5  17  2019-05-17 00:00:00   \n",
       "2831   LC-2019-0225650           1  2019   4  10  2019-04-10 00:00:00   \n",
       "20391  LC-2021-0449524           1  2021   8   2  2021-08-02 00:00:00   \n",
       "\n",
       "           hora franja_hora direccion_normalizada comuna  ...     latutid  \\\n",
       "4038   12:57:00          12                    SD      4  ...  -34.651413   \n",
       "2831   22:50:00          22                    SD      2  ...  -34.591059   \n",
       "20391  20:00:00          20                    SD     SD  ...          SD   \n",
       "\n",
       "      victima acusado  participantes moto auto transporte_publico camion  \\\n",
       "4038       SD      SD          SD-SD   SD   SD                 SD     SD   \n",
       "2831       SD      SD          SD-SD    x   SD                  x     SD   \n",
       "20391      SD      SD          SD-SD   SD   SD                 SD     SD   \n",
       "\n",
       "      ciclista gravedad  \n",
       "4038        SD       SD  \n",
       "2831        SD       SD  \n",
       "20391       SD       SD  \n",
       "\n",
       "[3 rows x 27 columns]"
      ]
     },
     "metadata": {},
     "output_type": "display_data"
    }
   ],
   "source": [
    "display(df_lesiones.sample(3))"
   ]
  },
  {
   "cell_type": "code",
   "execution_count": 51,
   "metadata": {},
   "outputs": [
    {
     "name": "stdout",
     "output_type": "stream",
     "text": [
      "<class 'pandas.core.frame.DataFrame'>\n",
      "RangeIndex: 23785 entries, 0 to 23784\n",
      "Data columns (total 27 columns):\n",
      " #   Column                 Non-Null Count  Dtype  \n",
      "---  ------                 --------------  -----  \n",
      " 0   id                     23785 non-null  object \n",
      " 1   n_victimas             23785 non-null  int64  \n",
      " 2   aaaa                   23785 non-null  int64  \n",
      " 3   mm                     23785 non-null  int64  \n",
      " 4   dd                     23785 non-null  int64  \n",
      " 5   fecha                  23785 non-null  object \n",
      " 6   hora                   23785 non-null  object \n",
      " 7   franja_hora            23780 non-null  object \n",
      " 8   direccion_normalizada  23732 non-null  object \n",
      " 9   comuna                 23616 non-null  object \n",
      " 10  tipo_calle             23785 non-null  object \n",
      " 11  otra_direccion         23785 non-null  object \n",
      " 12  calle                  12867 non-null  object \n",
      " 13  altura                 12771 non-null  float64\n",
      " 14  cruce                  9407 non-null   object \n",
      " 15  geocodificacion_CABA   23746 non-null  object \n",
      " 16  longitud               23523 non-null  object \n",
      " 17  latutid                23523 non-null  object \n",
      " 18  victima                23785 non-null  object \n",
      " 19  acusado                23785 non-null  object \n",
      " 20  participantes          23785 non-null  object \n",
      " 21  moto                   23692 non-null  object \n",
      " 22  auto                   23692 non-null  object \n",
      " 23  transporte_publico     23692 non-null  object \n",
      " 24  camion                 23692 non-null  object \n",
      " 25  ciclista               23692 non-null  object \n",
      " 26  gravedad               23785 non-null  object \n",
      "dtypes: float64(1), int64(4), object(22)\n",
      "memory usage: 4.9+ MB\n",
      "None\n"
     ]
    }
   ],
   "source": [
    "print(df_lesiones.info())"
   ]
  },
  {
   "cell_type": "markdown",
   "metadata": {},
   "source": [
    "_Removemos las columnas que no vamos a utilizar_"
   ]
  },
  {
   "cell_type": "code",
   "execution_count": 52,
   "metadata": {},
   "outputs": [],
   "source": [
    "df_lesiones.drop(columns=['aaaa', 'mm', 'dd','hora','direccion_normalizada',\n",
    "                          'calle','altura','cruce','participantes','moto',\n",
    "                          'auto','transporte_publico','camion','otra_direccion',\n",
    "                          'ciclista'], inplace=True)\n"
   ]
  },
  {
   "cell_type": "markdown",
   "metadata": {},
   "source": [
    "_Transformaciones_"
   ]
  },
  {
   "cell_type": "code",
   "execution_count": 53,
   "metadata": {},
   "outputs": [],
   "source": [
    "df_lesiones['fecha'].replace(\"'\",\"\", inplace=True)\n",
    "df_lesiones['fecha'] = df_lesiones['fecha'].astype('datetime64[ns]')"
   ]
  },
  {
   "cell_type": "code",
   "execution_count": 54,
   "metadata": {},
   "outputs": [
    {
     "data": {
      "text/plain": [
       "id                        0\n",
       "n_victimas                0\n",
       "fecha                     0\n",
       "franja_hora               5\n",
       "comuna                  169\n",
       "tipo_calle                0\n",
       "geocodificacion_CABA     39\n",
       "longitud                262\n",
       "latutid                 262\n",
       "victima                   0\n",
       "acusado                   0\n",
       "gravedad                  0\n",
       "dtype: int64"
      ]
     },
     "execution_count": 54,
     "metadata": {},
     "output_type": "execute_result"
    }
   ],
   "source": [
    "df_lesiones.isnull().sum()"
   ]
  },
  {
   "cell_type": "code",
   "execution_count": 55,
   "metadata": {},
   "outputs": [],
   "source": [
    "df_lesiones.loc[df_lesiones['franja_hora'] == 'sd', 'franja_hora'] = np.nan\n",
    "\n",
    "df_lesiones.loc[df_lesiones['comuna'] == 'SD', 'comuna'] = np.nan\n",
    "df_lesiones.loc[df_lesiones['comuna'] == 'No Especificada', 'comuna'] = np.nan\n",
    "\n",
    "df_lesiones.loc[df_lesiones['tipo_calle'] == 'SD', 'tipo_calle'] = np.nan\n",
    "df_lesiones.loc[df_lesiones['geocodificacion_CABA'] == 'SD', 'geocodificacion_CABA'] = np.nan\n",
    "df_lesiones.loc[df_lesiones['longitud'] == 'SD', 'longitud'] = np.nan\n",
    "df_lesiones.loc[df_lesiones['latutid'] == 'SD', 'latutid'] = np.nan\n",
    "df_lesiones.loc[df_lesiones['victima'] == 'SD', 'victima'] = np.nan\n",
    "df_lesiones.loc[df_lesiones['acusado'] == 'SD', 'acusado'] = np.nan\n",
    "df_lesiones.loc[df_lesiones['gravedad'] == 'SD', 'gravedad'] = np.nan\n",
    "\n",
    "df_lesiones['fecha'].replace(\"'\",\"\", inplace=True)\n",
    "\n",
    "\n"
   ]
  },
  {
   "cell_type": "code",
   "execution_count": 56,
   "metadata": {},
   "outputs": [],
   "source": [
    "df_lesiones['franja_hora'] = df_lesiones['franja_hora'].astype('category')\n",
    "df_lesiones['comuna'] = df_lesiones['comuna'].astype('category')\n",
    "df_lesiones['tipo_calle'] = df_lesiones['tipo_calle'].astype('category')\n",
    "df_lesiones['victima'] = df_lesiones['victima'].astype('category')\n",
    "df_lesiones['acusado'] = df_lesiones['acusado'].astype('category')\n",
    "df_lesiones['gravedad'] = df_lesiones['gravedad'].astype('category')\n",
    "df_lesiones['fecha'] = df_lesiones['fecha'].astype('datetime64[ns]')"
   ]
  },
  {
   "cell_type": "code",
   "execution_count": 57,
   "metadata": {},
   "outputs": [],
   "source": [
    "# Guardamos el DF listo para su análisis\n",
    "df_lesiones.to_csv('./datasets/df_lesiones.csv',index=False)"
   ]
  },
  {
   "cell_type": "markdown",
   "metadata": {},
   "source": [
    "### _1.2.4 Lesiones_Victimas_"
   ]
  },
  {
   "cell_type": "code",
   "execution_count": 58,
   "metadata": {},
   "outputs": [
    {
     "data": {
      "text/html": [
       "<div>\n",
       "<style scoped>\n",
       "    .dataframe tbody tr th:only-of-type {\n",
       "        vertical-align: middle;\n",
       "    }\n",
       "\n",
       "    .dataframe tbody tr th {\n",
       "        vertical-align: top;\n",
       "    }\n",
       "\n",
       "    .dataframe thead th {\n",
       "        text-align: right;\n",
       "    }\n",
       "</style>\n",
       "<table border=\"1\" class=\"dataframe\">\n",
       "  <thead>\n",
       "    <tr style=\"text-align: right;\">\n",
       "      <th></th>\n",
       "      <th>ID hecho</th>\n",
       "      <th>AAA</th>\n",
       "      <th>MM</th>\n",
       "      <th>DD</th>\n",
       "      <th>FECHA</th>\n",
       "      <th>VEHICULO_VICTIMA</th>\n",
       "      <th>SEXO</th>\n",
       "      <th>EDAD_VICTIMA</th>\n",
       "      <th>GRAVEDAD</th>\n",
       "    </tr>\n",
       "  </thead>\n",
       "  <tbody>\n",
       "    <tr>\n",
       "      <th>2127</th>\n",
       "      <td>LC-2019-0690794</td>\n",
       "      <td>2019</td>\n",
       "      <td>3</td>\n",
       "      <td>11</td>\n",
       "      <td>2019-03-11</td>\n",
       "      <td>sd</td>\n",
       "      <td>varon</td>\n",
       "      <td>83</td>\n",
       "      <td>SD</td>\n",
       "    </tr>\n",
       "    <tr>\n",
       "      <th>14057</th>\n",
       "      <td>LC-2020-0662665</td>\n",
       "      <td>2020</td>\n",
       "      <td>12</td>\n",
       "      <td>17</td>\n",
       "      <td>2020-12-17</td>\n",
       "      <td>SD</td>\n",
       "      <td>sd</td>\n",
       "      <td>sd</td>\n",
       "      <td>sd</td>\n",
       "    </tr>\n",
       "    <tr>\n",
       "      <th>1324</th>\n",
       "      <td>LC-2019-0100047</td>\n",
       "      <td>2019</td>\n",
       "      <td>2</td>\n",
       "      <td>15</td>\n",
       "      <td>2019-02-15</td>\n",
       "      <td>sd</td>\n",
       "      <td>Mujer</td>\n",
       "      <td>33</td>\n",
       "      <td>SD</td>\n",
       "    </tr>\n",
       "  </tbody>\n",
       "</table>\n",
       "</div>"
      ],
      "text/plain": [
       "              ID hecho   AAA  MM  DD     FECHA  VEHICULO_VICTIMA   SEXO  \\\n",
       "2127   LC-2019-0690794  2019   3  11 2019-03-11               sd  varon   \n",
       "14057  LC-2020-0662665  2020  12  17 2020-12-17               SD     sd   \n",
       "1324   LC-2019-0100047  2019   2  15 2019-02-15               sd  Mujer   \n",
       "\n",
       "      EDAD_VICTIMA GRAVEDAD  \n",
       "2127            83       SD  \n",
       "14057           sd       sd  \n",
       "1324            33       SD  "
      ]
     },
     "metadata": {},
     "output_type": "display_data"
    }
   ],
   "source": [
    "display(df_vic_les.sample(3))\n"
   ]
  },
  {
   "cell_type": "code",
   "execution_count": 59,
   "metadata": {},
   "outputs": [
    {
     "name": "stdout",
     "output_type": "stream",
     "text": [
      "<class 'pandas.core.frame.DataFrame'>\n",
      "RangeIndex: 27605 entries, 0 to 27604\n",
      "Data columns (total 9 columns):\n",
      " #   Column            Non-Null Count  Dtype         \n",
      "---  ------            --------------  -----         \n",
      " 0   ID hecho          27605 non-null  object        \n",
      " 1   AAA               27605 non-null  int64         \n",
      " 2   MM                27605 non-null  int64         \n",
      " 3   DD                27605 non-null  int64         \n",
      " 4   FECHA             27605 non-null  datetime64[ns]\n",
      " 5   VEHICULO_VICTIMA  27605 non-null  object        \n",
      " 6   SEXO              27605 non-null  object        \n",
      " 7   EDAD_VICTIMA      27605 non-null  object        \n",
      " 8   GRAVEDAD          27605 non-null  object        \n",
      "dtypes: datetime64[ns](1), int64(3), object(5)\n",
      "memory usage: 1.9+ MB\n"
     ]
    }
   ],
   "source": [
    "df_vic_les.info()"
   ]
  },
  {
   "cell_type": "markdown",
   "metadata": {},
   "source": [
    "_Removemos las columnas que no vamos a utilizar_"
   ]
  },
  {
   "cell_type": "code",
   "execution_count": 60,
   "metadata": {},
   "outputs": [],
   "source": [
    "df_vic_les.drop(columns=['AAA', 'MM', 'DD'], inplace=True)\n"
   ]
  },
  {
   "cell_type": "markdown",
   "metadata": {},
   "source": [
    "_Transformaciones de datos_"
   ]
  },
  {
   "cell_type": "code",
   "execution_count": 61,
   "metadata": {},
   "outputs": [
    {
     "name": "stdout",
     "output_type": "stream",
     "text": [
      "<class 'pandas.core.frame.DataFrame'>\n",
      "RangeIndex: 27605 entries, 0 to 27604\n",
      "Data columns (total 6 columns):\n",
      " #   Column            Non-Null Count  Dtype         \n",
      "---  ------            --------------  -----         \n",
      " 0   ID hecho          27605 non-null  object        \n",
      " 1   FECHA             27605 non-null  datetime64[ns]\n",
      " 2   VEHICULO_VICTIMA  27605 non-null  object        \n",
      " 3   SEXO              27605 non-null  object        \n",
      " 4   EDAD_VICTIMA      27605 non-null  object        \n",
      " 5   GRAVEDAD          27605 non-null  object        \n",
      "dtypes: datetime64[ns](1), object(5)\n",
      "memory usage: 1.3+ MB\n"
     ]
    }
   ],
   "source": [
    "df_vic_les.info()"
   ]
  },
  {
   "cell_type": "code",
   "execution_count": 62,
   "metadata": {},
   "outputs": [],
   "source": [
    "# Cambio de SD por nulos para ser mas visibles\n",
    "df_vic_les.loc[df_vic_les['VEHICULO_VICTIMA'] == 'SD', 'VEHICULO_VICTIMA'] = np.nan\n",
    "df_vic_les.loc[df_vic_les['SEXO'] == 'SD', 'SEXO'] = np.nan\n",
    "df_vic_les.loc[df_vic_les['GRAVEDAD'] == 'SD', 'GRAVEDAD'] = np.nan\n",
    "df_vic_les.loc[df_vic_les['EDAD_VICTIMA'] == 'SD', 'EDAD_VICTIMA'] = np.nan\n",
    "\n",
    "# Rango Etario\n",
    "df_vic_les.loc[df_vic_les['EDAD_VICTIMA'] == 'SD', 'EDAD_VICTIMA'] = np.nan\n",
    "df_vic_les.loc[df_vic_les['EDAD_VICTIMA'] == 'sd', 'EDAD_VICTIMA'] = np.nan\n",
    "df_vic_les['EDAD_VICTIMA'] = df_vic_les['EDAD_VICTIMA'].astype('float')\n",
    "df_vic_les['Rango_etario'] = df_vic_les['EDAD_VICTIMA'].apply(lambda x: rango_etario(x))\n"
   ]
  },
  {
   "cell_type": "code",
   "execution_count": 63,
   "metadata": {},
   "outputs": [
    {
     "data": {
      "text/html": [
       "<div>\n",
       "<style scoped>\n",
       "    .dataframe tbody tr th:only-of-type {\n",
       "        vertical-align: middle;\n",
       "    }\n",
       "\n",
       "    .dataframe tbody tr th {\n",
       "        vertical-align: top;\n",
       "    }\n",
       "\n",
       "    .dataframe thead th {\n",
       "        text-align: right;\n",
       "    }\n",
       "</style>\n",
       "<table border=\"1\" class=\"dataframe\">\n",
       "  <thead>\n",
       "    <tr style=\"text-align: right;\">\n",
       "      <th></th>\n",
       "      <th>ID hecho</th>\n",
       "      <th>FECHA</th>\n",
       "      <th>VEHICULO_VICTIMA</th>\n",
       "      <th>SEXO</th>\n",
       "      <th>EDAD_VICTIMA</th>\n",
       "      <th>GRAVEDAD</th>\n",
       "      <th>Rango_etario</th>\n",
       "    </tr>\n",
       "  </thead>\n",
       "  <tbody>\n",
       "    <tr>\n",
       "      <th>0</th>\n",
       "      <td>LC-2019-0000053</td>\n",
       "      <td>2019-01-01</td>\n",
       "      <td>sd</td>\n",
       "      <td>Varon</td>\n",
       "      <td>57.0</td>\n",
       "      <td>NaN</td>\n",
       "      <td>5_ 50 a 59 años</td>\n",
       "    </tr>\n",
       "    <tr>\n",
       "      <th>1</th>\n",
       "      <td>LC-2019-0000063</td>\n",
       "      <td>2019-01-01</td>\n",
       "      <td>sd</td>\n",
       "      <td>NaN</td>\n",
       "      <td>NaN</td>\n",
       "      <td>NaN</td>\n",
       "      <td>NaN</td>\n",
       "    </tr>\n",
       "    <tr>\n",
       "      <th>2</th>\n",
       "      <td>LC-2019-0000079</td>\n",
       "      <td>2019-01-01</td>\n",
       "      <td>sd</td>\n",
       "      <td>Varon</td>\n",
       "      <td>NaN</td>\n",
       "      <td>NaN</td>\n",
       "      <td>NaN</td>\n",
       "    </tr>\n",
       "    <tr>\n",
       "      <th>3</th>\n",
       "      <td>LC-2019-0000082</td>\n",
       "      <td>2019-01-01</td>\n",
       "      <td>sd</td>\n",
       "      <td>Varon</td>\n",
       "      <td>45.0</td>\n",
       "      <td>NaN</td>\n",
       "      <td>4_ 45 a 49 años</td>\n",
       "    </tr>\n",
       "    <tr>\n",
       "      <th>4</th>\n",
       "      <td>LC-2019-0000082</td>\n",
       "      <td>2019-01-01</td>\n",
       "      <td>sd</td>\n",
       "      <td>Mujer</td>\n",
       "      <td>45.0</td>\n",
       "      <td>NaN</td>\n",
       "      <td>4_ 45 a 49 años</td>\n",
       "    </tr>\n",
       "  </tbody>\n",
       "</table>\n",
       "</div>"
      ],
      "text/plain": [
       "          ID hecho     FECHA  VEHICULO_VICTIMA   SEXO  EDAD_VICTIMA GRAVEDAD  \\\n",
       "0  LC-2019-0000053 2019-01-01               sd  Varon          57.0      NaN   \n",
       "1  LC-2019-0000063 2019-01-01               sd    NaN           NaN      NaN   \n",
       "2  LC-2019-0000079 2019-01-01               sd  Varon           NaN      NaN   \n",
       "3  LC-2019-0000082 2019-01-01               sd  Varon          45.0      NaN   \n",
       "4  LC-2019-0000082 2019-01-01               sd  Mujer          45.0      NaN   \n",
       "\n",
       "      Rango_etario  \n",
       "0  5_ 50 a 59 años  \n",
       "1              NaN  \n",
       "2              NaN  \n",
       "3  4_ 45 a 49 años  \n",
       "4  4_ 45 a 49 años  "
      ]
     },
     "execution_count": 63,
     "metadata": {},
     "output_type": "execute_result"
    }
   ],
   "source": [
    "df_vic_les.head()"
   ]
  },
  {
   "cell_type": "code",
   "execution_count": 64,
   "metadata": {},
   "outputs": [
    {
     "data": {
      "text/plain": [
       "ID hecho                0\n",
       "FECHA                   0\n",
       "VEHICULO_VICTIMA     4479\n",
       "SEXO                 1929\n",
       "EDAD_VICTIMA         4471\n",
       "GRAVEDAD            20722\n",
       "Rango_etario         4471\n",
       "dtype: int64"
      ]
     },
     "execution_count": 64,
     "metadata": {},
     "output_type": "execute_result"
    }
   ],
   "source": [
    "df_vic_les.isnull().sum()"
   ]
  },
  {
   "cell_type": "code",
   "execution_count": 65,
   "metadata": {},
   "outputs": [],
   "source": [
    "# Guardamos el DF listo para su análisis\n",
    "df_vic_les.to_csv('./datasets/df_vic_les.csv',index=False)"
   ]
  }
 ],
 "metadata": {
  "kernelspec": {
   "display_name": "Python 3",
   "language": "python",
   "name": "python3"
  },
  "language_info": {
   "codemirror_mode": {
    "name": "ipython",
    "version": 3
   },
   "file_extension": ".py",
   "mimetype": "text/x-python",
   "name": "python",
   "nbconvert_exporter": "python",
   "pygments_lexer": "ipython3",
   "version": "3.10.8"
  },
  "orig_nbformat": 4
 },
 "nbformat": 4,
 "nbformat_minor": 2
}
