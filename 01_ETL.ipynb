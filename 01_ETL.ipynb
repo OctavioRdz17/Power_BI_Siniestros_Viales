{
 "cells": [
  {
   "cell_type": "markdown",
   "metadata": {},
   "source": [
    "<h1 align='center' style=color:cyan;text-weight:800>\n",
    "1. Extracción Transformación y Carga (ETL)\n",
    "</h1>"
   ]
  },
  {
   "cell_type": "markdown",
   "metadata": {},
   "source": [
    "## _1.1 Extracción_"
   ]
  },
  {
   "cell_type": "code",
   "execution_count": 1,
   "metadata": {},
   "outputs": [],
   "source": [
    "# Carga de librerías\n",
    "import pandas as pd\n",
    "import numpy as np\n",
    "import matplotlib.pyplot as plt\n",
    "import seaborn as sns"
   ]
  },
  {
   "cell_type": "markdown",
   "metadata": {},
   "source": [
    "_Carga el de los archivos a utilizar en el análisis_"
   ]
  },
  {
   "cell_type": "code",
   "execution_count": 2,
   "metadata": {},
   "outputs": [],
   "source": [
    "df_homicidios = pd.read_excel('./datasets/homicidios.xlsx',sheet_name = 'HECHOS',na_values=['SD', 'sd'])\n",
    "df_vic_hom    = pd.read_excel('./datasets/homicidios.xlsx',sheet_name = 'VICTIMAS',na_values=['SD', 'sd'])\n",
    "df_lesiones   = pd.read_excel('./datasets/lesiones.xlsx' , sheet_name = 'HECHOS',na_values=['SD', 'sd'])\n",
    "df_vic_les    = pd.read_excel('./datasets/lesiones.xlsx' , sheet_name = 'VICTIMAS',na_values=['SD', 'sd'])"
   ]
  },
  {
   "cell_type": "markdown",
   "metadata": {},
   "source": [
    "## _1.2 Transformación_"
   ]
  },
  {
   "cell_type": "markdown",
   "metadata": {},
   "source": [
    "### _1.2.1 Homicidios_Hechos_"
   ]
  },
  {
   "cell_type": "code",
   "execution_count": 3,
   "metadata": {},
   "outputs": [
    {
     "data": {
      "text/html": [
       "<div>\n",
       "<style scoped>\n",
       "    .dataframe tbody tr th:only-of-type {\n",
       "        vertical-align: middle;\n",
       "    }\n",
       "\n",
       "    .dataframe tbody tr th {\n",
       "        vertical-align: top;\n",
       "    }\n",
       "\n",
       "    .dataframe thead th {\n",
       "        text-align: right;\n",
       "    }\n",
       "</style>\n",
       "<table border=\"1\" class=\"dataframe\">\n",
       "  <thead>\n",
       "    <tr style=\"text-align: right;\">\n",
       "      <th></th>\n",
       "      <th>ID</th>\n",
       "      <th>N_VICTIMAS</th>\n",
       "      <th>FECHA</th>\n",
       "      <th>AAAA</th>\n",
       "      <th>MM</th>\n",
       "      <th>DD</th>\n",
       "      <th>HORA</th>\n",
       "      <th>HH</th>\n",
       "      <th>LUGAR_DEL_HECHO</th>\n",
       "      <th>TIPO_DE_CALLE</th>\n",
       "      <th>...</th>\n",
       "      <th>Altura</th>\n",
       "      <th>Cruce</th>\n",
       "      <th>Dirección Normalizada</th>\n",
       "      <th>COMUNA</th>\n",
       "      <th>XY (CABA)</th>\n",
       "      <th>pos x</th>\n",
       "      <th>pos y</th>\n",
       "      <th>PARTICIPANTES</th>\n",
       "      <th>VICTIMA</th>\n",
       "      <th>ACUSADO</th>\n",
       "    </tr>\n",
       "  </thead>\n",
       "  <tbody>\n",
       "    <tr>\n",
       "      <th>567</th>\n",
       "      <td>2020-0047</td>\n",
       "      <td>1</td>\n",
       "      <td>2020-10-27</td>\n",
       "      <td>2020</td>\n",
       "      <td>10</td>\n",
       "      <td>27</td>\n",
       "      <td>14:00:00</td>\n",
       "      <td>14.0</td>\n",
       "      <td>AUTOPISTA CAMPORA ALTURA LACARRA AV.</td>\n",
       "      <td>AUTOPISTA</td>\n",
       "      <td>...</td>\n",
       "      <td>NaN</td>\n",
       "      <td>LACARRA AV.</td>\n",
       "      <td>AUTOPISTA PRESIDENTE HÃ‰CTOR J. CÃMPORA y LAC...</td>\n",
       "      <td>9</td>\n",
       "      <td>Point (99689.80114953 97506.41939342)</td>\n",
       "      <td>-58.46668375</td>\n",
       "      <td>-34.65174801</td>\n",
       "      <td>PEATON-CARGAS</td>\n",
       "      <td>PEATON</td>\n",
       "      <td>CARGAS</td>\n",
       "    </tr>\n",
       "    <tr>\n",
       "      <th>73</th>\n",
       "      <td>2016-0098</td>\n",
       "      <td>1</td>\n",
       "      <td>2016-07-27</td>\n",
       "      <td>2016</td>\n",
       "      <td>7</td>\n",
       "      <td>27</td>\n",
       "      <td>16:08:00</td>\n",
       "      <td>16.0</td>\n",
       "      <td>AV SAN JUAN Y ALBERTI</td>\n",
       "      <td>AVENIDA</td>\n",
       "      <td>...</td>\n",
       "      <td>NaN</td>\n",
       "      <td>ALBERTI</td>\n",
       "      <td>SAN JUAN AV. y ALBERTI</td>\n",
       "      <td>3</td>\n",
       "      <td>Point (105765.97394356 100631.47718024)</td>\n",
       "      <td>-58.40042405</td>\n",
       "      <td>-34.62356174</td>\n",
       "      <td>MOTO-CARGAS</td>\n",
       "      <td>MOTO</td>\n",
       "      <td>CARGAS</td>\n",
       "    </tr>\n",
       "    <tr>\n",
       "      <th>51</th>\n",
       "      <td>2016-0074</td>\n",
       "      <td>1</td>\n",
       "      <td>2016-06-12</td>\n",
       "      <td>2016</td>\n",
       "      <td>6</td>\n",
       "      <td>12</td>\n",
       "      <td>06:40:00</td>\n",
       "      <td>6.0</td>\n",
       "      <td>AV GRAL PAZ Y RODOLFO SCAPINO</td>\n",
       "      <td>GRAL PAZ</td>\n",
       "      <td>...</td>\n",
       "      <td>NaN</td>\n",
       "      <td>SCAPINO, RODOLFO</td>\n",
       "      <td>PAZ, GRAL. AV. y SCAPINO, RODOLFO</td>\n",
       "      <td>8</td>\n",
       "      <td>Point (96731.44252651 94668.88351657)</td>\n",
       "      <td>-58.49896559</td>\n",
       "      <td>-34.67732118</td>\n",
       "      <td>AUTO-AUTO</td>\n",
       "      <td>AUTO</td>\n",
       "      <td>AUTO</td>\n",
       "    </tr>\n",
       "  </tbody>\n",
       "</table>\n",
       "<p>3 rows × 21 columns</p>\n",
       "</div>"
      ],
      "text/plain": [
       "            ID  N_VICTIMAS      FECHA  AAAA  MM  DD      HORA    HH  \\\n",
       "567  2020-0047           1 2020-10-27  2020  10  27  14:00:00  14.0   \n",
       "73   2016-0098           1 2016-07-27  2016   7  27  16:08:00  16.0   \n",
       "51   2016-0074           1 2016-06-12  2016   6  12  06:40:00   6.0   \n",
       "\n",
       "                          LUGAR_DEL_HECHO TIPO_DE_CALLE  ... Altura  \\\n",
       "567  AUTOPISTA CAMPORA ALTURA LACARRA AV.     AUTOPISTA  ...    NaN   \n",
       "73                  AV SAN JUAN Y ALBERTI       AVENIDA  ...    NaN   \n",
       "51          AV GRAL PAZ Y RODOLFO SCAPINO      GRAL PAZ  ...    NaN   \n",
       "\n",
       "                Cruce                              Dirección Normalizada  \\\n",
       "567       LACARRA AV.  AUTOPISTA PRESIDENTE HÃ‰CTOR J. CÃMPORA y LAC...   \n",
       "73            ALBERTI                             SAN JUAN AV. y ALBERTI   \n",
       "51   SCAPINO, RODOLFO                  PAZ, GRAL. AV. y SCAPINO, RODOLFO   \n",
       "\n",
       "    COMUNA                                XY (CABA)         pos x  \\\n",
       "567      9    Point (99689.80114953 97506.41939342)  -58.46668375   \n",
       "73       3  Point (105765.97394356 100631.47718024)  -58.40042405   \n",
       "51       8    Point (96731.44252651 94668.88351657)  -58.49896559   \n",
       "\n",
       "            pos y  PARTICIPANTES VICTIMA ACUSADO  \n",
       "567  -34.65174801  PEATON-CARGAS  PEATON  CARGAS  \n",
       "73   -34.62356174    MOTO-CARGAS    MOTO  CARGAS  \n",
       "51   -34.67732118      AUTO-AUTO    AUTO    AUTO  \n",
       "\n",
       "[3 rows x 21 columns]"
      ]
     },
     "metadata": {},
     "output_type": "display_data"
    }
   ],
   "source": [
    "display(df_homicidios.sample(3))"
   ]
  },
  {
   "cell_type": "markdown",
   "metadata": {},
   "source": [
    "_Removemos las columnas que no vamos a utilizar_"
   ]
  },
  {
   "cell_type": "code",
   "execution_count": 4,
   "metadata": {},
   "outputs": [],
   "source": [
    "df_homicidios.drop(columns=['AAAA', 'MM', 'DD', 'HORA', 'LUGAR_DEL_HECHO', 'Calle', \n",
    "                            'Altura', 'Cruce', 'Dirección Normalizada', 'PARTICIPANTES','VICTIMA'], inplace=True)"
   ]
  },
  {
   "cell_type": "code",
   "execution_count": 5,
   "metadata": {},
   "outputs": [
    {
     "name": "stdout",
     "output_type": "stream",
     "text": [
      "<class 'pandas.core.frame.DataFrame'>\n",
      "RangeIndex: 696 entries, 0 to 695\n",
      "Data columns (total 10 columns):\n",
      " #   Column         Non-Null Count  Dtype         \n",
      "---  ------         --------------  -----         \n",
      " 0   ID             696 non-null    object        \n",
      " 1   N_VICTIMAS     696 non-null    int64         \n",
      " 2   FECHA          696 non-null    datetime64[ns]\n",
      " 3   HH             695 non-null    float64       \n",
      " 4   TIPO_DE_CALLE  696 non-null    object        \n",
      " 5   COMUNA         696 non-null    int64         \n",
      " 6   XY (CABA)      696 non-null    object        \n",
      " 7   pos x          696 non-null    object        \n",
      " 8   pos y          696 non-null    object        \n",
      " 9   ACUSADO        673 non-null    object        \n",
      "dtypes: datetime64[ns](1), float64(1), int64(2), object(6)\n",
      "memory usage: 54.5+ KB\n",
      "None\n"
     ]
    }
   ],
   "source": [
    "# INFOREME DE HOMICIDIOS\n",
    "print(df_homicidios.info())"
   ]
  },
  {
   "cell_type": "code",
   "execution_count": 6,
   "metadata": {},
   "outputs": [
    {
     "data": {
      "text/plain": [
       "ID                0\n",
       "N_VICTIMAS        0\n",
       "FECHA             0\n",
       "HH                1\n",
       "TIPO_DE_CALLE     0\n",
       "COMUNA            0\n",
       "XY (CABA)         0\n",
       "pos x             0\n",
       "pos y             0\n",
       "ACUSADO          23\n",
       "dtype: int64"
      ]
     },
     "execution_count": 6,
     "metadata": {},
     "output_type": "execute_result"
    }
   ],
   "source": [
    "# Cantidad de valores nulos\n",
    "df_homicidios.isnull().sum()"
   ]
  },
  {
   "cell_type": "markdown",
   "metadata": {},
   "source": [
    "_Transformaciones de datos_"
   ]
  },
  {
   "cell_type": "code",
   "execution_count": 7,
   "metadata": {},
   "outputs": [],
   "source": [
    "# remplazar la comuna 0 a nulos\n",
    "df_homicidios.loc[df_homicidios['COMUNA'] == '0' ,'COMUNA'] = np.nan\n",
    "\n",
    "\n",
    "# remplazar los \".\" por nulos en latitud y longitud\n",
    "df_homicidios.loc[df_homicidios['pos x'] == '.' ,'pos x'] = np.nan\n",
    "df_homicidios.loc[df_homicidios['pos y'] == '.' ,'pos y'] = np.nan\n",
    "df_homicidios.loc[df_homicidios['XY (CABA)'] == 'Point (. .)' ,'XY (CABA)'] = np.nan\n"
   ]
  },
  {
   "cell_type": "code",
   "execution_count": 8,
   "metadata": {},
   "outputs": [
    {
     "data": {
      "text/plain": [
       "ID                0\n",
       "N_VICTIMAS        0\n",
       "FECHA             0\n",
       "HH                1\n",
       "TIPO_DE_CALLE     0\n",
       "COMUNA            0\n",
       "XY (CABA)        14\n",
       "pos x            12\n",
       "pos y            12\n",
       "ACUSADO          23\n",
       "dtype: int64"
      ]
     },
     "execution_count": 8,
     "metadata": {},
     "output_type": "execute_result"
    }
   ],
   "source": [
    "df_homicidios.isnull().sum()"
   ]
  },
  {
   "cell_type": "code",
   "execution_count": 9,
   "metadata": {},
   "outputs": [
    {
     "name": "stdout",
     "output_type": "stream",
     "text": [
      "<class 'pandas.core.frame.DataFrame'>\n",
      "RangeIndex: 696 entries, 0 to 695\n",
      "Data columns (total 10 columns):\n",
      " #   Column         Non-Null Count  Dtype         \n",
      "---  ------         --------------  -----         \n",
      " 0   ID             696 non-null    object        \n",
      " 1   N_VICTIMAS     696 non-null    int64         \n",
      " 2   FECHA          696 non-null    datetime64[ns]\n",
      " 3   HH             695 non-null    category      \n",
      " 4   TIPO_DE_CALLE  696 non-null    category      \n",
      " 5   COMUNA         696 non-null    category      \n",
      " 6   XY (CABA)      682 non-null    object        \n",
      " 7   pos x          684 non-null    float64       \n",
      " 8   pos y          684 non-null    float64       \n",
      " 9   ACUSADO        673 non-null    category      \n",
      "dtypes: category(4), datetime64[ns](1), float64(2), int64(1), object(2)\n",
      "memory usage: 37.4+ KB\n"
     ]
    }
   ],
   "source": [
    "# cambio a formato categórico\n",
    "df_homicidios['HH'] = df_homicidios['HH'].astype('category')\n",
    "df_homicidios['TIPO_DE_CALLE'] = df_homicidios['TIPO_DE_CALLE'].astype('category')\n",
    "df_homicidios['COMUNA'] = df_homicidios['COMUNA'].astype('category')\n",
    "df_homicidios['ACUSADO'] = df_homicidios['ACUSADO'].astype('category')\n",
    "\n",
    "# cambio a float los valores de latitud y longitud\n",
    "df_homicidios['pos x'] = df_homicidios['pos x'].astype('float')\n",
    "df_homicidios['pos y'] = df_homicidios['pos y'].astype('float')\n",
    "\n",
    "df_homicidios.info()\n"
   ]
  },
  {
   "cell_type": "markdown",
   "metadata": {},
   "source": [
    "Rename de columnas"
   ]
  },
  {
   "cell_type": "code",
   "execution_count": 10,
   "metadata": {},
   "outputs": [],
   "source": [
    "nuevos_nombres = {'ID': 'ID_HECHO','pos x':'LONGITUD','pos y':'LATITUD',\n",
    "                  'HH':'HORA','ACUSADO':'VEHICULO_ACUSADO',\n",
    "                  'Rango_etario ':'RANGO_ETARIO'}\n",
    "                 \n",
    "# Remplazar nombres\n",
    "df_homicidios = df_homicidios.rename(columns=nuevos_nombres)"
   ]
  },
  {
   "cell_type": "code",
   "execution_count": 11,
   "metadata": {},
   "outputs": [],
   "source": [
    "# # borrando los registros nulos que son 15 que representa el 2.1% de los datos\n",
    "# df_homicidios.isnull().sum()\n",
    "# df_homicidios.dropna(inplace=True)"
   ]
  },
  {
   "cell_type": "markdown",
   "metadata": {},
   "source": [
    "_Guardamos el DF listo para su análisis_"
   ]
  },
  {
   "cell_type": "code",
   "execution_count": 12,
   "metadata": {},
   "outputs": [
    {
     "data": {
      "text/html": [
       "<div>\n",
       "<style scoped>\n",
       "    .dataframe tbody tr th:only-of-type {\n",
       "        vertical-align: middle;\n",
       "    }\n",
       "\n",
       "    .dataframe tbody tr th {\n",
       "        vertical-align: top;\n",
       "    }\n",
       "\n",
       "    .dataframe thead th {\n",
       "        text-align: right;\n",
       "    }\n",
       "</style>\n",
       "<table border=\"1\" class=\"dataframe\">\n",
       "  <thead>\n",
       "    <tr style=\"text-align: right;\">\n",
       "      <th></th>\n",
       "      <th>ID_HECHO</th>\n",
       "      <th>N_VICTIMAS</th>\n",
       "      <th>FECHA</th>\n",
       "      <th>HORA</th>\n",
       "      <th>TIPO_DE_CALLE</th>\n",
       "      <th>COMUNA</th>\n",
       "      <th>XY (CABA)</th>\n",
       "      <th>LONGITUD</th>\n",
       "      <th>LATITUD</th>\n",
       "      <th>VEHICULO_ACUSADO</th>\n",
       "    </tr>\n",
       "  </thead>\n",
       "  <tbody>\n",
       "    <tr>\n",
       "      <th>23</th>\n",
       "      <td>2016-0034</td>\n",
       "      <td>1</td>\n",
       "      <td>2016-03-12</td>\n",
       "      <td>12.0</td>\n",
       "      <td>AVENIDA</td>\n",
       "      <td>4.0</td>\n",
       "      <td>Point (105230.98315750 97613.97258373)</td>\n",
       "      <td>-58.406239</td>\n",
       "      <td>-34.650765</td>\n",
       "      <td>PASAJEROS</td>\n",
       "    </tr>\n",
       "    <tr>\n",
       "      <th>538</th>\n",
       "      <td>2020-0018</td>\n",
       "      <td>1</td>\n",
       "      <td>2020-03-09</td>\n",
       "      <td>14.0</td>\n",
       "      <td>AVENIDA</td>\n",
       "      <td>13.0</td>\n",
       "      <td>Point (101309.75947342 109680.73260642)</td>\n",
       "      <td>-58.449031</td>\n",
       "      <td>-34.542003</td>\n",
       "      <td>OBJETO FIJO</td>\n",
       "    </tr>\n",
       "    <tr>\n",
       "      <th>11</th>\n",
       "      <td>2016-0016</td>\n",
       "      <td>1</td>\n",
       "      <td>2016-02-14</td>\n",
       "      <td>22.0</td>\n",
       "      <td>AVENIDA</td>\n",
       "      <td>4.0</td>\n",
       "      <td>Point (108661.59115206 98481.75445555)</td>\n",
       "      <td>-58.368827</td>\n",
       "      <td>-34.642920</td>\n",
       "      <td>AUTO</td>\n",
       "    </tr>\n",
       "  </tbody>\n",
       "</table>\n",
       "</div>"
      ],
      "text/plain": [
       "      ID_HECHO  N_VICTIMAS      FECHA  HORA TIPO_DE_CALLE COMUNA  \\\n",
       "23   2016-0034           1 2016-03-12  12.0       AVENIDA    4.0   \n",
       "538  2020-0018           1 2020-03-09  14.0       AVENIDA   13.0   \n",
       "11   2016-0016           1 2016-02-14  22.0       AVENIDA    4.0   \n",
       "\n",
       "                                   XY (CABA)   LONGITUD    LATITUD  \\\n",
       "23    Point (105230.98315750 97613.97258373) -58.406239 -34.650765   \n",
       "538  Point (101309.75947342 109680.73260642) -58.449031 -34.542003   \n",
       "11    Point (108661.59115206 98481.75445555) -58.368827 -34.642920   \n",
       "\n",
       "    VEHICULO_ACUSADO  \n",
       "23         PASAJEROS  \n",
       "538      OBJETO FIJO  \n",
       "11              AUTO  "
      ]
     },
     "execution_count": 12,
     "metadata": {},
     "output_type": "execute_result"
    }
   ],
   "source": [
    "df_homicidios.sample(3)"
   ]
  },
  {
   "cell_type": "code",
   "execution_count": 13,
   "metadata": {},
   "outputs": [],
   "source": [
    "# Guardamos el DF listo para su análisis\n",
    "df_homicidios.to_csv('./datasets/df_homicidios.csv',index=False)"
   ]
  },
  {
   "cell_type": "markdown",
   "metadata": {},
   "source": [
    "### _1.2.2 Homicidios_Victimas_"
   ]
  },
  {
   "cell_type": "code",
   "execution_count": 14,
   "metadata": {},
   "outputs": [
    {
     "data": {
      "text/html": [
       "<div>\n",
       "<style scoped>\n",
       "    .dataframe tbody tr th:only-of-type {\n",
       "        vertical-align: middle;\n",
       "    }\n",
       "\n",
       "    .dataframe tbody tr th {\n",
       "        vertical-align: top;\n",
       "    }\n",
       "\n",
       "    .dataframe thead th {\n",
       "        text-align: right;\n",
       "    }\n",
       "</style>\n",
       "<table border=\"1\" class=\"dataframe\">\n",
       "  <thead>\n",
       "    <tr style=\"text-align: right;\">\n",
       "      <th></th>\n",
       "      <th>ID_hecho</th>\n",
       "      <th>FECHA</th>\n",
       "      <th>AAAA</th>\n",
       "      <th>MM</th>\n",
       "      <th>DD</th>\n",
       "      <th>ROL</th>\n",
       "      <th>VICTIMA</th>\n",
       "      <th>SEXO</th>\n",
       "      <th>EDAD</th>\n",
       "      <th>FECHA_FALLECIMIENTO</th>\n",
       "    </tr>\n",
       "  </thead>\n",
       "  <tbody>\n",
       "    <tr>\n",
       "      <th>24</th>\n",
       "      <td>2016-0035</td>\n",
       "      <td>2016-03-13</td>\n",
       "      <td>2016</td>\n",
       "      <td>3</td>\n",
       "      <td>13</td>\n",
       "      <td>CONDUCTOR</td>\n",
       "      <td>MOTO</td>\n",
       "      <td>MASCULINO</td>\n",
       "      <td>34.0</td>\n",
       "      <td>2016-03-13 00:00:00</td>\n",
       "    </tr>\n",
       "    <tr>\n",
       "      <th>595</th>\n",
       "      <td>2020-0056</td>\n",
       "      <td>2020-11-21</td>\n",
       "      <td>2020</td>\n",
       "      <td>11</td>\n",
       "      <td>21</td>\n",
       "      <td>CONDUCTOR</td>\n",
       "      <td>MOTO</td>\n",
       "      <td>FEMENINO</td>\n",
       "      <td>34.0</td>\n",
       "      <td>2020-11-21 00:00:00</td>\n",
       "    </tr>\n",
       "    <tr>\n",
       "      <th>150</th>\n",
       "      <td>2017-0009</td>\n",
       "      <td>2017-01-16</td>\n",
       "      <td>2017</td>\n",
       "      <td>1</td>\n",
       "      <td>16</td>\n",
       "      <td>CONDUCTOR</td>\n",
       "      <td>MOTO</td>\n",
       "      <td>MASCULINO</td>\n",
       "      <td>36.0</td>\n",
       "      <td>2017-01-16 00:00:00</td>\n",
       "    </tr>\n",
       "  </tbody>\n",
       "</table>\n",
       "</div>"
      ],
      "text/plain": [
       "      ID_hecho      FECHA  AAAA  MM  DD        ROL VICTIMA       SEXO  EDAD  \\\n",
       "24   2016-0035 2016-03-13  2016   3  13  CONDUCTOR    MOTO  MASCULINO  34.0   \n",
       "595  2020-0056 2020-11-21  2020  11  21  CONDUCTOR    MOTO   FEMENINO  34.0   \n",
       "150  2017-0009 2017-01-16  2017   1  16  CONDUCTOR    MOTO  MASCULINO  36.0   \n",
       "\n",
       "     FECHA_FALLECIMIENTO  \n",
       "24   2016-03-13 00:00:00  \n",
       "595  2020-11-21 00:00:00  \n",
       "150  2017-01-16 00:00:00  "
      ]
     },
     "metadata": {},
     "output_type": "display_data"
    }
   ],
   "source": [
    "display(df_vic_hom.sample(3))"
   ]
  },
  {
   "cell_type": "code",
   "execution_count": 15,
   "metadata": {},
   "outputs": [
    {
     "name": "stdout",
     "output_type": "stream",
     "text": [
      "<class 'pandas.core.frame.DataFrame'>\n",
      "RangeIndex: 717 entries, 0 to 716\n",
      "Data columns (total 10 columns):\n",
      " #   Column               Non-Null Count  Dtype         \n",
      "---  ------               --------------  -----         \n",
      " 0   ID_hecho             717 non-null    object        \n",
      " 1   FECHA                717 non-null    datetime64[ns]\n",
      " 2   AAAA                 717 non-null    int64         \n",
      " 3   MM                   717 non-null    int64         \n",
      " 4   DD                   717 non-null    int64         \n",
      " 5   ROL                  706 non-null    object        \n",
      " 6   VICTIMA              708 non-null    object        \n",
      " 7   SEXO                 711 non-null    object        \n",
      " 8   EDAD                 664 non-null    float64       \n",
      " 9   FECHA_FALLECIMIENTO  649 non-null    object        \n",
      "dtypes: datetime64[ns](1), float64(1), int64(3), object(5)\n",
      "memory usage: 56.1+ KB\n",
      "None\n"
     ]
    }
   ],
   "source": [
    "print(df_vic_hom.info())"
   ]
  },
  {
   "cell_type": "markdown",
   "metadata": {},
   "source": [
    "_Removemos las columnas que no vamos a utilizar_"
   ]
  },
  {
   "cell_type": "code",
   "execution_count": 16,
   "metadata": {},
   "outputs": [],
   "source": [
    "df_vic_hom.drop(columns=['AAAA', 'MM', 'DD', 'FECHA_FALLECIMIENTO'], inplace=True)\n",
    "\n",
    "df_vic_hom['GRAVEDAD'] = 'FATAL'"
   ]
  },
  {
   "cell_type": "markdown",
   "metadata": {},
   "source": [
    "_Transformaciones de datos_"
   ]
  },
  {
   "cell_type": "code",
   "execution_count": 17,
   "metadata": {},
   "outputs": [],
   "source": [
    "# función que regresa 1 si la edad es menor a 18, 2 si la edad esta entre 18 y 29\n",
    "# 3 si la edad esta entre 30 y 39, 4 si la edad esta entre 40 a 49 , 5 si la edad es de 50 a 59\n",
    "# y 6 si la edad es igual o mayor a 60 \n",
    "def rango_etario(edad):\n",
    "    if edad < 18:\n",
    "        return \"1_ 0 a 17 años\"\n",
    "    elif 18 <= edad <= 29:\n",
    "        return \"2_ 18 a 29 años\"\n",
    "    elif 30 <= edad <= 39:\n",
    "        return \"3_ 30 a 39 años\"\n",
    "    elif 40 <= edad <= 49:\n",
    "        return \"4_ 45 a 49 años\"\n",
    "    elif 50 <= edad <= 59:\n",
    "        return \"5_ 50 a 59 años\"\n",
    "    elif edad >= 60:\n",
    "        return \"6_ 60 años o mas\"\n",
    "    else:\n",
    "        return np.nan\n"
   ]
  },
  {
   "cell_type": "code",
   "execution_count": null,
   "metadata": {},
   "outputs": [],
   "source": []
  },
  {
   "cell_type": "code",
   "execution_count": 18,
   "metadata": {},
   "outputs": [
    {
     "name": "stdout",
     "output_type": "stream",
     "text": [
      "<class 'pandas.core.frame.DataFrame'>\n",
      "RangeIndex: 717 entries, 0 to 716\n",
      "Data columns (total 8 columns):\n",
      " #   Column        Non-Null Count  Dtype         \n",
      "---  ------        --------------  -----         \n",
      " 0   ID_hecho      717 non-null    object        \n",
      " 1   FECHA         717 non-null    datetime64[ns]\n",
      " 2   ROL           706 non-null    object        \n",
      " 3   VICTIMA       708 non-null    object        \n",
      " 4   SEXO          711 non-null    object        \n",
      " 5   EDAD          664 non-null    float64       \n",
      " 6   GRAVEDAD      717 non-null    object        \n",
      " 7   RANGO_ETARIO  664 non-null    object        \n",
      "dtypes: datetime64[ns](1), float64(1), object(6)\n",
      "memory usage: 44.9+ KB\n"
     ]
    }
   ],
   "source": [
    "# Rango Etario\n",
    "df_vic_hom.loc[df_vic_hom['EDAD'] == 'SD', 'EDAD'] = np.nan\n",
    "df_vic_hom.loc[df_vic_hom['EDAD'] == 'sd', 'EDAD'] = np.nan\n",
    "df_vic_hom['EDAD'] = df_vic_hom['EDAD'].astype('float')\n",
    "df_vic_hom['RANGO_ETARIO'] = df_vic_hom['EDAD'].apply(lambda x: rango_etario(x))\n",
    "df_vic_hom.info()"
   ]
  },
  {
   "cell_type": "code",
   "execution_count": 19,
   "metadata": {},
   "outputs": [
    {
     "name": "stdout",
     "output_type": "stream",
     "text": [
      "<class 'pandas.core.frame.DataFrame'>\n",
      "RangeIndex: 717 entries, 0 to 716\n",
      "Data columns (total 7 columns):\n",
      " #   Column        Non-Null Count  Dtype         \n",
      "---  ------        --------------  -----         \n",
      " 0   ID_hecho      717 non-null    category      \n",
      " 1   FECHA         717 non-null    datetime64[ns]\n",
      " 2   ROL           706 non-null    category      \n",
      " 3   VICTIMA       708 non-null    category      \n",
      " 4   SEXO          711 non-null    category      \n",
      " 5   GRAVEDAD      717 non-null    object        \n",
      " 6   RANGO_ETARIO  664 non-null    category      \n",
      "dtypes: category(5), datetime64[ns](1), object(1)\n",
      "memory usage: 38.0+ KB\n"
     ]
    }
   ],
   "source": [
    "# cambio a formato categórico\n",
    "df_vic_hom['ID_hecho'] = df_vic_hom['ID_hecho'].astype('category')\n",
    "df_vic_hom['ROL'] = df_vic_hom['ROL'].astype('category')\n",
    "df_vic_hom['VICTIMA'] = df_vic_hom['VICTIMA'].astype('category')\n",
    "df_vic_hom['SEXO'] = df_vic_hom['SEXO'].astype('category')\n",
    "df_vic_hom['RANGO_ETARIO'] = df_vic_hom['RANGO_ETARIO'].astype('category')\n",
    "\n",
    "\n",
    "df_vic_hom.drop(columns='EDAD',inplace=True)\n",
    "\n",
    "df_vic_hom.info()"
   ]
  },
  {
   "cell_type": "code",
   "execution_count": 20,
   "metadata": {},
   "outputs": [
    {
     "data": {
      "text/plain": [
       "Index(['ID_HECHO', 'FECHA', 'ROL_VICTIMA', 'VEHICULO_VICTIMA', 'SEXO_VICTIMA',\n",
       "       'GRAVEDAD', 'RANGO_ETARIO'],\n",
       "      dtype='object')"
      ]
     },
     "execution_count": 20,
     "metadata": {},
     "output_type": "execute_result"
    }
   ],
   "source": [
    "# CAMBIAR EL NOMBRE A LAS COLUMNAS QUE NO ESTAN EN MAYUSCULAS   \n",
    "nuevos_nombres = {'ID_hecho':'ID_HECHO','ROL':'ROL_VICTIMA','VICTIMA':'VEHICULO_VICTIMA','SEXO':'SEXO_VICTIMA'}\n",
    "\n",
    "# Remplazar nombres\n",
    "df_vic_hom = df_vic_hom.rename(columns=nuevos_nombres)\n",
    "df_vic_hom.columns"
   ]
  },
  {
   "cell_type": "code",
   "execution_count": 21,
   "metadata": {},
   "outputs": [],
   "source": [
    "#cambia el ROL_VICTIMA  =  PASAJERO_ACOMPAÑANTE por PASAJERO\n",
    "df_vic_hom['ROL_VICTIMA'] = df_vic_hom['ROL_VICTIMA'].replace('PASAJERO_ACOMPAÑANTE','PASAJERO')"
   ]
  },
  {
   "cell_type": "code",
   "execution_count": 22,
   "metadata": {},
   "outputs": [],
   "source": [
    "# Guardamos el DF listo para su análisis\n",
    "df_vic_hom.to_csv('./datasets/df_vic_hom.csv',index=False)"
   ]
  },
  {
   "cell_type": "markdown",
   "metadata": {},
   "source": [
    "### _1.2.3 Lesiones_Hechos_"
   ]
  },
  {
   "cell_type": "code",
   "execution_count": 23,
   "metadata": {},
   "outputs": [
    {
     "data": {
      "text/html": [
       "<div>\n",
       "<style scoped>\n",
       "    .dataframe tbody tr th:only-of-type {\n",
       "        vertical-align: middle;\n",
       "    }\n",
       "\n",
       "    .dataframe tbody tr th {\n",
       "        vertical-align: top;\n",
       "    }\n",
       "\n",
       "    .dataframe thead th {\n",
       "        text-align: right;\n",
       "    }\n",
       "</style>\n",
       "<table border=\"1\" class=\"dataframe\">\n",
       "  <thead>\n",
       "    <tr style=\"text-align: right;\">\n",
       "      <th></th>\n",
       "      <th>id</th>\n",
       "      <th>n_victimas</th>\n",
       "      <th>aaaa</th>\n",
       "      <th>mm</th>\n",
       "      <th>dd</th>\n",
       "      <th>fecha</th>\n",
       "      <th>hora</th>\n",
       "      <th>franja_hora</th>\n",
       "      <th>direccion_normalizada</th>\n",
       "      <th>comuna</th>\n",
       "      <th>...</th>\n",
       "      <th>latutid</th>\n",
       "      <th>victima</th>\n",
       "      <th>acusado</th>\n",
       "      <th>participantes</th>\n",
       "      <th>moto</th>\n",
       "      <th>auto</th>\n",
       "      <th>transporte_publico</th>\n",
       "      <th>camion</th>\n",
       "      <th>ciclista</th>\n",
       "      <th>gravedad</th>\n",
       "    </tr>\n",
       "  </thead>\n",
       "  <tbody>\n",
       "    <tr>\n",
       "      <th>3902</th>\n",
       "      <td>LC-2019-0299771</td>\n",
       "      <td>1</td>\n",
       "      <td>2019</td>\n",
       "      <td>5</td>\n",
       "      <td>14</td>\n",
       "      <td>2019-05-14 00:00:00</td>\n",
       "      <td>08:10:00</td>\n",
       "      <td>8.0</td>\n",
       "      <td>NaN</td>\n",
       "      <td>9</td>\n",
       "      <td>...</td>\n",
       "      <td>-34.634635</td>\n",
       "      <td>NaN</td>\n",
       "      <td>NaN</td>\n",
       "      <td>SD-SD</td>\n",
       "      <td>NaN</td>\n",
       "      <td>NaN</td>\n",
       "      <td>NaN</td>\n",
       "      <td>NaN</td>\n",
       "      <td>NaN</td>\n",
       "      <td>NaN</td>\n",
       "    </tr>\n",
       "    <tr>\n",
       "      <th>1829</th>\n",
       "      <td>LC-2019-0153063</td>\n",
       "      <td>1</td>\n",
       "      <td>2019</td>\n",
       "      <td>3</td>\n",
       "      <td>12</td>\n",
       "      <td>2019-03-12 00:00:00</td>\n",
       "      <td>20:06:00</td>\n",
       "      <td>20.0</td>\n",
       "      <td>NaN</td>\n",
       "      <td>12</td>\n",
       "      <td>...</td>\n",
       "      <td>-34.565084</td>\n",
       "      <td>NaN</td>\n",
       "      <td>NaN</td>\n",
       "      <td>SD-SD</td>\n",
       "      <td>x</td>\n",
       "      <td>NaN</td>\n",
       "      <td>NaN</td>\n",
       "      <td>NaN</td>\n",
       "      <td>NaN</td>\n",
       "      <td>NaN</td>\n",
       "    </tr>\n",
       "    <tr>\n",
       "      <th>1076</th>\n",
       "      <td>LC-2019-0095110</td>\n",
       "      <td>1</td>\n",
       "      <td>2019</td>\n",
       "      <td>2</td>\n",
       "      <td>13</td>\n",
       "      <td>2019-02-13 00:00:00</td>\n",
       "      <td>19:38:00</td>\n",
       "      <td>19.0</td>\n",
       "      <td>NaN</td>\n",
       "      <td>3</td>\n",
       "      <td>...</td>\n",
       "      <td>-34.605645</td>\n",
       "      <td>NaN</td>\n",
       "      <td>NaN</td>\n",
       "      <td>SD-SD</td>\n",
       "      <td>NaN</td>\n",
       "      <td>NaN</td>\n",
       "      <td>NaN</td>\n",
       "      <td>NaN</td>\n",
       "      <td>NaN</td>\n",
       "      <td>NaN</td>\n",
       "    </tr>\n",
       "  </tbody>\n",
       "</table>\n",
       "<p>3 rows × 27 columns</p>\n",
       "</div>"
      ],
      "text/plain": [
       "                   id  n_victimas  aaaa  mm  dd                fecha  \\\n",
       "3902  LC-2019-0299771           1  2019   5  14  2019-05-14 00:00:00   \n",
       "1829  LC-2019-0153063           1  2019   3  12  2019-03-12 00:00:00   \n",
       "1076  LC-2019-0095110           1  2019   2  13  2019-02-13 00:00:00   \n",
       "\n",
       "          hora  franja_hora direccion_normalizada comuna  ...    latutid  \\\n",
       "3902  08:10:00          8.0                   NaN      9  ... -34.634635   \n",
       "1829  20:06:00         20.0                   NaN     12  ... -34.565084   \n",
       "1076  19:38:00         19.0                   NaN      3  ... -34.605645   \n",
       "\n",
       "     victima acusado  participantes moto auto  transporte_publico  camion  \\\n",
       "3902     NaN     NaN          SD-SD  NaN  NaN                 NaN     NaN   \n",
       "1829     NaN     NaN          SD-SD    x  NaN                 NaN     NaN   \n",
       "1076     NaN     NaN          SD-SD  NaN  NaN                 NaN     NaN   \n",
       "\n",
       "     ciclista gravedad  \n",
       "3902      NaN      NaN  \n",
       "1829      NaN      NaN  \n",
       "1076      NaN      NaN  \n",
       "\n",
       "[3 rows x 27 columns]"
      ]
     },
     "metadata": {},
     "output_type": "display_data"
    }
   ],
   "source": [
    "display(df_lesiones.sample(3))"
   ]
  },
  {
   "cell_type": "code",
   "execution_count": 24,
   "metadata": {},
   "outputs": [
    {
     "name": "stdout",
     "output_type": "stream",
     "text": [
      "<class 'pandas.core.frame.DataFrame'>\n",
      "RangeIndex: 23785 entries, 0 to 23784\n",
      "Data columns (total 27 columns):\n",
      " #   Column                 Non-Null Count  Dtype  \n",
      "---  ------                 --------------  -----  \n",
      " 0   id                     23785 non-null  object \n",
      " 1   n_victimas             23785 non-null  int64  \n",
      " 2   aaaa                   23785 non-null  int64  \n",
      " 3   mm                     23785 non-null  int64  \n",
      " 4   dd                     23785 non-null  int64  \n",
      " 5   fecha                  23785 non-null  object \n",
      " 6   hora                   23776 non-null  object \n",
      " 7   franja_hora            23776 non-null  float64\n",
      " 8   direccion_normalizada  12917 non-null  object \n",
      " 9   comuna                 22770 non-null  object \n",
      " 10  tipo_calle             12740 non-null  object \n",
      " 11  otra_direccion         5490 non-null   object \n",
      " 12  calle                  12867 non-null  object \n",
      " 13  altura                 12771 non-null  float64\n",
      " 14  cruce                  9407 non-null   object \n",
      " 15  geocodificacion_CABA   22533 non-null  object \n",
      " 16  longitud               22314 non-null  float64\n",
      " 17  latutid                22314 non-null  float64\n",
      " 18  victima                13052 non-null  object \n",
      " 19  acusado                8497 non-null   object \n",
      " 20  participantes          23785 non-null  object \n",
      " 21  moto                   15181 non-null  object \n",
      " 22  auto                   11149 non-null  object \n",
      " 23  transporte_publico     11891 non-null  object \n",
      " 24  camion                 10984 non-null  object \n",
      " 25  ciclista               12339 non-null  object \n",
      " 26  gravedad               646 non-null    object \n",
      "dtypes: float64(4), int64(4), object(19)\n",
      "memory usage: 4.9+ MB\n",
      "None\n"
     ]
    }
   ],
   "source": [
    "print(df_lesiones.info())"
   ]
  },
  {
   "cell_type": "markdown",
   "metadata": {},
   "source": [
    "_Removemos las columnas que no vamos a utilizar_"
   ]
  },
  {
   "cell_type": "code",
   "execution_count": 25,
   "metadata": {},
   "outputs": [],
   "source": [
    "df_lesiones.drop(columns=['aaaa', 'mm', 'dd','hora','direccion_normalizada',\n",
    "                          'calle','altura','cruce','participantes','moto',\n",
    "                          'auto','transporte_publico','camion','otra_direccion',\n",
    "                          'ciclista','victima','gravedad'], inplace=True)\n"
   ]
  },
  {
   "cell_type": "code",
   "execution_count": 26,
   "metadata": {},
   "outputs": [
    {
     "data": {
      "text/html": [
       "<div>\n",
       "<style scoped>\n",
       "    .dataframe tbody tr th:only-of-type {\n",
       "        vertical-align: middle;\n",
       "    }\n",
       "\n",
       "    .dataframe tbody tr th {\n",
       "        vertical-align: top;\n",
       "    }\n",
       "\n",
       "    .dataframe thead th {\n",
       "        text-align: right;\n",
       "    }\n",
       "</style>\n",
       "<table border=\"1\" class=\"dataframe\">\n",
       "  <thead>\n",
       "    <tr style=\"text-align: right;\">\n",
       "      <th></th>\n",
       "      <th>ID_HECHO</th>\n",
       "      <th>N_VICTIMAS</th>\n",
       "      <th>FECHA</th>\n",
       "      <th>HORA</th>\n",
       "      <th>COMUNA</th>\n",
       "      <th>TIPO_DE_CALLE</th>\n",
       "      <th>XY (CABA)</th>\n",
       "      <th>LONGITUD</th>\n",
       "      <th>LATUTID</th>\n",
       "      <th>VEHICULO_ACUSADO</th>\n",
       "    </tr>\n",
       "  </thead>\n",
       "  <tbody>\n",
       "    <tr>\n",
       "      <th>8044</th>\n",
       "      <td>LC-2019-0609401</td>\n",
       "      <td>1</td>\n",
       "      <td>2019-09-28 00:00:00</td>\n",
       "      <td>14.0</td>\n",
       "      <td>1</td>\n",
       "      <td>NaN</td>\n",
       "      <td>Point (107390.14725633601483423 100044.5727541...</td>\n",
       "      <td>-58.382708</td>\n",
       "      <td>-34.628842</td>\n",
       "      <td>NaN</td>\n",
       "    </tr>\n",
       "    <tr>\n",
       "      <th>9663</th>\n",
       "      <td>LC-2019-0810729</td>\n",
       "      <td>1</td>\n",
       "      <td>2019-12-07 00:00:00</td>\n",
       "      <td>10.0</td>\n",
       "      <td>12</td>\n",
       "      <td>NaN</td>\n",
       "      <td>Point (95609.50898635186604224 105109.19203127...</td>\n",
       "      <td>-58.511153</td>\n",
       "      <td>-34.583204</td>\n",
       "      <td>NaN</td>\n",
       "    </tr>\n",
       "    <tr>\n",
       "      <th>6623</th>\n",
       "      <td>LC-2019-0499111</td>\n",
       "      <td>1</td>\n",
       "      <td>2019-08-11 00:00:00</td>\n",
       "      <td>17.0</td>\n",
       "      <td>7</td>\n",
       "      <td>NaN</td>\n",
       "      <td>Point (101965.38105788156099152 99268.41861485...</td>\n",
       "      <td>-58.441865</td>\n",
       "      <td>-34.635863</td>\n",
       "      <td>NaN</td>\n",
       "    </tr>\n",
       "  </tbody>\n",
       "</table>\n",
       "</div>"
      ],
      "text/plain": [
       "             ID_HECHO  N_VICTIMAS                FECHA  HORA COMUNA  \\\n",
       "8044  LC-2019-0609401           1  2019-09-28 00:00:00  14.0      1   \n",
       "9663  LC-2019-0810729           1  2019-12-07 00:00:00  10.0     12   \n",
       "6623  LC-2019-0499111           1  2019-08-11 00:00:00  17.0      7   \n",
       "\n",
       "     TIPO_DE_CALLE                                          XY (CABA)  \\\n",
       "8044           NaN  Point (107390.14725633601483423 100044.5727541...   \n",
       "9663           NaN  Point (95609.50898635186604224 105109.19203127...   \n",
       "6623           NaN  Point (101965.38105788156099152 99268.41861485...   \n",
       "\n",
       "       LONGITUD    LATUTID VEHICULO_ACUSADO  \n",
       "8044 -58.382708 -34.628842              NaN  \n",
       "9663 -58.511153 -34.583204              NaN  \n",
       "6623 -58.441865 -34.635863              NaN  "
      ]
     },
     "execution_count": 26,
     "metadata": {},
     "output_type": "execute_result"
    }
   ],
   "source": [
    "# Pasar las columnas a mayusculas\n",
    "df_lesiones.columns = df_lesiones.columns.str.upper()\n",
    "\n",
    "# CAMBIAR NOMBRE DE LA COLUMNA FRANJA HORARIA\n",
    "df_lesiones = df_lesiones.rename(columns={'ID':'ID_HECHO'})\n",
    "df_lesiones = df_lesiones.rename(columns={'FRANJA_HORA':'HORA'})\n",
    "df_lesiones = df_lesiones.rename(columns={'TIPO_CALLE':'TIPO_DE_CALLE'})\n",
    "df_lesiones = df_lesiones.rename(columns={'GEOCODIFICACION_CABA':'XY (CABA)'})\n",
    "df_lesiones = df_lesiones.rename(columns={'ACUSADO':'VEHICULO_ACUSADO'})\n",
    "df_lesiones = df_lesiones.rename(columns={'LATUTID':'LATITUD'})\n",
    "\n",
    "df_lesiones.sample(3)\t"
   ]
  },
  {
   "cell_type": "markdown",
   "metadata": {},
   "source": [
    "_Transformaciones_"
   ]
  },
  {
   "cell_type": "code",
   "execution_count": 32,
   "metadata": {},
   "outputs": [],
   "source": [
    "df_lesiones['FECHA'].replace(\"'\",\"\", inplace=True)\n",
    "df_lesiones['FECHA'] = df_lesiones['FECHA'].astype('datetime64[ns]')\n",
    "\n",
    "# Remplazar \"No especificada\" por nulos\n",
    "df_lesiones.loc[df_lesiones['COMUNA'] == 'No Especificada', 'COMUNA'] = np.nan"
   ]
  },
  {
   "cell_type": "code",
   "execution_count": 33,
   "metadata": {},
   "outputs": [
    {
     "data": {
      "text/plain": [
       "Index(['ID_HECHO', 'N_VICTIMAS', 'FECHA', 'HORA', 'COMUNA', 'TIPO_DE_CALLE',\n",
       "       'XY (CABA)', 'LONGITUD', 'LATUTID', 'VEHICULO_ACUSADO'],\n",
       "      dtype='object')"
      ]
     },
     "execution_count": 33,
     "metadata": {},
     "output_type": "execute_result"
    }
   ],
   "source": [
    "df_lesiones.columns"
   ]
  },
  {
   "cell_type": "code",
   "execution_count": 34,
   "metadata": {},
   "outputs": [],
   "source": [
    "# Guardamos el DF listo para su análisis\n",
    "df_lesiones.to_csv('./datasets/df_lesiones.csv',index=False)"
   ]
  },
  {
   "cell_type": "markdown",
   "metadata": {},
   "source": [
    "### _1.2.4 Lesiones_Victimas_"
   ]
  },
  {
   "cell_type": "code",
   "execution_count": 110,
   "metadata": {},
   "outputs": [
    {
     "data": {
      "text/html": [
       "<div>\n",
       "<style scoped>\n",
       "    .dataframe tbody tr th:only-of-type {\n",
       "        vertical-align: middle;\n",
       "    }\n",
       "\n",
       "    .dataframe tbody tr th {\n",
       "        vertical-align: top;\n",
       "    }\n",
       "\n",
       "    .dataframe thead th {\n",
       "        text-align: right;\n",
       "    }\n",
       "</style>\n",
       "<table border=\"1\" class=\"dataframe\">\n",
       "  <thead>\n",
       "    <tr style=\"text-align: right;\">\n",
       "      <th></th>\n",
       "      <th>ID hecho</th>\n",
       "      <th>AAA</th>\n",
       "      <th>MM</th>\n",
       "      <th>DD</th>\n",
       "      <th>FECHA</th>\n",
       "      <th>VEHICULO_VICTIMA</th>\n",
       "      <th>SEXO</th>\n",
       "      <th>EDAD_VICTIMA</th>\n",
       "      <th>GRAVEDAD</th>\n",
       "    </tr>\n",
       "  </thead>\n",
       "  <tbody>\n",
       "    <tr>\n",
       "      <th>10751</th>\n",
       "      <td>LC-2019-0700182</td>\n",
       "      <td>2019</td>\n",
       "      <td>11</td>\n",
       "      <td>6</td>\n",
       "      <td>2019-11-06</td>\n",
       "      <td>NaN</td>\n",
       "      <td>Mujer</td>\n",
       "      <td>24.0</td>\n",
       "      <td>NaN</td>\n",
       "    </tr>\n",
       "    <tr>\n",
       "      <th>13479</th>\n",
       "      <td>LC-2020-0236471</td>\n",
       "      <td>2020</td>\n",
       "      <td>5</td>\n",
       "      <td>12</td>\n",
       "      <td>2020-05-12</td>\n",
       "      <td>MOTO</td>\n",
       "      <td>Mujer</td>\n",
       "      <td>45.0</td>\n",
       "      <td>NaN</td>\n",
       "    </tr>\n",
       "    <tr>\n",
       "      <th>8100</th>\n",
       "      <td>LC-2019-0513293</td>\n",
       "      <td>2019</td>\n",
       "      <td>8</td>\n",
       "      <td>17</td>\n",
       "      <td>2019-08-17</td>\n",
       "      <td>NaN</td>\n",
       "      <td>Mujer</td>\n",
       "      <td>35.0</td>\n",
       "      <td>NaN</td>\n",
       "    </tr>\n",
       "  </tbody>\n",
       "</table>\n",
       "</div>"
      ],
      "text/plain": [
       "              ID hecho   AAA  MM  DD     FECHA  VEHICULO_VICTIMA   SEXO  \\\n",
       "10751  LC-2019-0700182  2019  11   6 2019-11-06              NaN  Mujer   \n",
       "13479  LC-2020-0236471  2020   5  12 2020-05-12             MOTO  Mujer   \n",
       "8100   LC-2019-0513293  2019   8  17 2019-08-17              NaN  Mujer   \n",
       "\n",
       "       EDAD_VICTIMA GRAVEDAD  \n",
       "10751          24.0      NaN  \n",
       "13479          45.0      NaN  \n",
       "8100           35.0      NaN  "
      ]
     },
     "metadata": {},
     "output_type": "display_data"
    }
   ],
   "source": [
    "display(df_vic_les.sample(3))\n"
   ]
  },
  {
   "cell_type": "code",
   "execution_count": 111,
   "metadata": {},
   "outputs": [
    {
     "data": {
      "text/plain": [
       "Index(['ID_HECHO', 'AAA', 'MM', 'DD', 'FECHA', 'VEHICULO_VICTIMA',\n",
       "       'SEXO_VICTIMA', 'EDAD_VICTIMA', 'GRAVEDAD'],\n",
       "      dtype='object')"
      ]
     },
     "execution_count": 111,
     "metadata": {},
     "output_type": "execute_result"
    }
   ],
   "source": [
    "# Pasar las columnas a mayusculas\n",
    "df_vic_les.columns = df_vic_les.columns.str.upper()\n",
    "\n",
    "# Cambiar nombres a las columnas para coincidir con el df_homicidios\n",
    "df_vic_les = df_vic_les.rename(columns={'ID HECHO':'ID_HECHO','FECHA ':'FECHA','SEXO':'SEXO_VICTIMA'})\n",
    "\n",
    "df_vic_les.columns"
   ]
  },
  {
   "cell_type": "markdown",
   "metadata": {},
   "source": [
    "_Removemos las columnas que no vamos a utilizar_"
   ]
  },
  {
   "cell_type": "code",
   "execution_count": 112,
   "metadata": {},
   "outputs": [
    {
     "data": {
      "text/plain": [
       "Index(['ID_HECHO', 'FECHA', 'VEHICULO_VICTIMA', 'SEXO_VICTIMA', 'EDAD_VICTIMA',\n",
       "       'GRAVEDAD'],\n",
       "      dtype='object')"
      ]
     },
     "execution_count": 112,
     "metadata": {},
     "output_type": "execute_result"
    }
   ],
   "source": [
    "df_vic_les.drop(columns=['AAA', 'MM', 'DD'], inplace=True)\n",
    "\n",
    "# Columnas\n",
    "df_vic_les.columns\n"
   ]
  },
  {
   "cell_type": "code",
   "execution_count": 113,
   "metadata": {},
   "outputs": [
    {
     "data": {
      "text/html": [
       "<div>\n",
       "<style scoped>\n",
       "    .dataframe tbody tr th:only-of-type {\n",
       "        vertical-align: middle;\n",
       "    }\n",
       "\n",
       "    .dataframe tbody tr th {\n",
       "        vertical-align: top;\n",
       "    }\n",
       "\n",
       "    .dataframe thead th {\n",
       "        text-align: right;\n",
       "    }\n",
       "</style>\n",
       "<table border=\"1\" class=\"dataframe\">\n",
       "  <thead>\n",
       "    <tr style=\"text-align: right;\">\n",
       "      <th></th>\n",
       "      <th>ID_HECHO</th>\n",
       "      <th>FECHA</th>\n",
       "      <th>VEHICULO_VICTIMA</th>\n",
       "      <th>SEXO_VICTIMA</th>\n",
       "      <th>EDAD_VICTIMA</th>\n",
       "      <th>GRAVEDAD</th>\n",
       "      <th>ROL_VICTIMA</th>\n",
       "    </tr>\n",
       "  </thead>\n",
       "  <tbody>\n",
       "    <tr>\n",
       "      <th>0</th>\n",
       "      <td>LC-2019-0000053</td>\n",
       "      <td>2019-01-01</td>\n",
       "      <td>NaN</td>\n",
       "      <td>Varon</td>\n",
       "      <td>57.0</td>\n",
       "      <td>LEVEMENTE HERIDO</td>\n",
       "      <td>NaN</td>\n",
       "    </tr>\n",
       "    <tr>\n",
       "      <th>1</th>\n",
       "      <td>LC-2019-0000063</td>\n",
       "      <td>2019-01-01</td>\n",
       "      <td>NaN</td>\n",
       "      <td>NaN</td>\n",
       "      <td>NaN</td>\n",
       "      <td>LEVEMENTE HERIDO</td>\n",
       "      <td>NaN</td>\n",
       "    </tr>\n",
       "    <tr>\n",
       "      <th>2</th>\n",
       "      <td>LC-2019-0000079</td>\n",
       "      <td>2019-01-01</td>\n",
       "      <td>NaN</td>\n",
       "      <td>Varon</td>\n",
       "      <td>NaN</td>\n",
       "      <td>LEVEMENTE HERIDO</td>\n",
       "      <td>NaN</td>\n",
       "    </tr>\n",
       "  </tbody>\n",
       "</table>\n",
       "</div>"
      ],
      "text/plain": [
       "          ID_HECHO      FECHA VEHICULO_VICTIMA SEXO_VICTIMA  EDAD_VICTIMA  \\\n",
       "0  LC-2019-0000053 2019-01-01              NaN        Varon          57.0   \n",
       "1  LC-2019-0000063 2019-01-01              NaN          NaN           NaN   \n",
       "2  LC-2019-0000079 2019-01-01              NaN        Varon           NaN   \n",
       "\n",
       "           GRAVEDAD  ROL_VICTIMA  \n",
       "0  LEVEMENTE HERIDO          NaN  \n",
       "1  LEVEMENTE HERIDO          NaN  \n",
       "2  LEVEMENTE HERIDO          NaN  "
      ]
     },
     "execution_count": 113,
     "metadata": {},
     "output_type": "execute_result"
    }
   ],
   "source": [
    "# Creamos la columna ROL_VICTIMA con nulls\n",
    "df_vic_les['ROL_VICTIMA'] = np.nan\n",
    "\n",
    "# remplazar los nulos de la columna GRAVEDAD por \"LEVEMENTE HERIDO\"\n",
    "df_vic_les.loc[df_vic_les['GRAVEDAD'].isnull(), 'GRAVEDAD'] = 'LEVEMENTE HERIDO'\n",
    "\n",
    "df_vic_les.head(3)"
   ]
  },
  {
   "cell_type": "markdown",
   "metadata": {},
   "source": [
    "_Transformaciones de datos_"
   ]
  },
  {
   "cell_type": "code",
   "execution_count": 114,
   "metadata": {},
   "outputs": [
    {
     "name": "stdout",
     "output_type": "stream",
     "text": [
      "<class 'pandas.core.frame.DataFrame'>\n",
      "RangeIndex: 27605 entries, 0 to 27604\n",
      "Data columns (total 7 columns):\n",
      " #   Column            Non-Null Count  Dtype         \n",
      "---  ------            --------------  -----         \n",
      " 0   ID_HECHO          27605 non-null  object        \n",
      " 1   FECHA             27605 non-null  datetime64[ns]\n",
      " 2   VEHICULO_VICTIMA  11333 non-null  object        \n",
      " 3   SEXO_VICTIMA      25377 non-null  object        \n",
      " 4   EDAD_VICTIMA      23134 non-null  float64       \n",
      " 5   GRAVEDAD          27605 non-null  object        \n",
      " 6   ROL_VICTIMA       0 non-null      float64       \n",
      "dtypes: datetime64[ns](1), float64(2), object(4)\n",
      "memory usage: 1.5+ MB\n"
     ]
    }
   ],
   "source": [
    "df_vic_les.info()"
   ]
  },
  {
   "cell_type": "code",
   "execution_count": 115,
   "metadata": {},
   "outputs": [],
   "source": [
    "# Rango Etario\n",
    "df_vic_les['EDAD_VICTIMA'] = df_vic_les['EDAD_VICTIMA'].astype('float')\n",
    "df_vic_les['RANGO_ETARIO'] = df_vic_les['EDAD_VICTIMA'].apply(lambda x: rango_etario(x))"
   ]
  },
  {
   "cell_type": "code",
   "execution_count": 116,
   "metadata": {},
   "outputs": [],
   "source": [
    "# Unificar en FEMENINO y MASCULINO\n",
    "df_vic_les.loc[df_vic_les['SEXO_VICTIMA'] == 'MUJER', 'SEXO_VICTIMA'] = 'FEMENINO'\n",
    "df_vic_les.loc[df_vic_les['SEXO_VICTIMA'] == 'Mujer', 'SEXO_VICTIMA'] = 'FEMENINO'\n",
    "df_vic_les.loc[df_vic_les['SEXO_VICTIMA'] == 'mujer ', 'SEXO_VICTIMA'] = 'FEMENINO'\n",
    "df_vic_les.loc[df_vic_les['SEXO_VICTIMA'] == 'mujer', 'SEXO_VICTIMA'] = 'FEMENINO'\n",
    "df_vic_les.loc[df_vic_les['SEXO_VICTIMA'] == 'Mujer ', 'SEXO_VICTIMA'] = 'FEMENINO'\n",
    "df_vic_les.loc[df_vic_les['SEXO_VICTIMA'] == 'Varon', 'SEXO_VICTIMA'] = 'MASCULINO'\n",
    "df_vic_les.loc[df_vic_les['SEXO_VICTIMA'] == 'varon', 'SEXO_VICTIMA'] = 'MASCULINO'\n"
   ]
  },
  {
   "cell_type": "code",
   "execution_count": 117,
   "metadata": {},
   "outputs": [
    {
     "data": {
      "text/plain": [
       "array(['MASCULINO', nan, 'FEMENINO'], dtype=object)"
      ]
     },
     "execution_count": 117,
     "metadata": {},
     "output_type": "execute_result"
    }
   ],
   "source": [
    "# inprime valores unicos de la columna SEXO_VICTIMA\n",
    "df_vic_les['SEXO_VICTIMA'].unique()\n"
   ]
  },
  {
   "cell_type": "code",
   "execution_count": 118,
   "metadata": {},
   "outputs": [],
   "source": [
    "# Guardamos el DF listo para su análisis\n",
    "df_vic_les.to_csv('./datasets/df_vic_les.csv',index=False)"
   ]
  }
 ],
 "metadata": {
  "kernelspec": {
   "display_name": "Python 3",
   "language": "python",
   "name": "python3"
  },
  "language_info": {
   "codemirror_mode": {
    "name": "ipython",
    "version": 3
   },
   "file_extension": ".py",
   "mimetype": "text/x-python",
   "name": "python",
   "nbconvert_exporter": "python",
   "pygments_lexer": "ipython3",
   "version": "3.10.8"
  },
  "orig_nbformat": 4
 },
 "nbformat": 4,
 "nbformat_minor": 2
}
